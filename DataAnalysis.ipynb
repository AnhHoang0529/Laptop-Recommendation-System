{
 "cells": [
  {
   "cell_type": "code",
   "execution_count": 99,
   "id": "0e9de817",
   "metadata": {
    "id": "0e9de817"
   },
   "outputs": [],
   "source": [
    "import numpy as np\n",
    "import pandas as pd\n",
    "import matplotlib.pyplot as plt\n",
    "import seaborn as sns"
   ]
  },
  {
   "cell_type": "markdown",
   "id": "f80cb0b9",
   "metadata": {
    "id": "f80cb0b9"
   },
   "source": [
    "# Data explore"
   ]
  },
  {
   "cell_type": "code",
   "execution_count": 100,
   "id": "101e1b1f",
   "metadata": {
    "executionInfo": {
     "elapsed": 299,
     "status": "ok",
     "timestamp": 1655044288113,
     "user": {
      "displayName": "Nhóm 7 DS103.M21",
      "userId": "12706573684156505343"
     },
     "user_tz": -420
    },
    "id": "101e1b1f"
   },
   "outputs": [],
   "source": [
    "df = pd.read_csv(\"./TidyDataset.csv\",  encoding=\"ISO-8859-1\")"
   ]
  },
  {
   "cell_type": "code",
   "execution_count": 101,
   "id": "557b5dd7",
   "metadata": {
    "colab": {
     "base_uri": "https://localhost:8080/",
     "height": 250
    },
    "executionInfo": {
     "elapsed": 466,
     "status": "ok",
     "timestamp": 1655044288977,
     "user": {
      "displayName": "Nhóm 7 DS103.M21",
      "userId": "12706573684156505343"
     },
     "user_tz": -420
    },
    "id": "557b5dd7",
    "outputId": "4ff4dd7a-c6b7-4805-f673-98803a4504d1"
   },
   "outputs": [
    {
     "data": {
      "text/html": [
       "<div>\n",
       "<style scoped>\n",
       "    .dataframe tbody tr th:only-of-type {\n",
       "        vertical-align: middle;\n",
       "    }\n",
       "\n",
       "    .dataframe tbody tr th {\n",
       "        vertical-align: top;\n",
       "    }\n",
       "\n",
       "    .dataframe thead th {\n",
       "        text-align: right;\n",
       "    }\n",
       "</style>\n",
       "<table border=\"1\" class=\"dataframe\">\n",
       "  <thead>\n",
       "    <tr style=\"text-align: right;\">\n",
       "      <th></th>\n",
       "      <th>ID</th>\n",
       "      <th>Brand</th>\n",
       "      <th>Name</th>\n",
       "      <th>ScreenSize</th>\n",
       "      <th>CPU</th>\n",
       "      <th>RAM</th>\n",
       "      <th>HardDisk</th>\n",
       "      <th>DefaultPrice</th>\n",
       "      <th>SalePrice</th>\n",
       "      <th>Link</th>\n",
       "      <th>Website</th>\n",
       "    </tr>\n",
       "  </thead>\n",
       "  <tbody>\n",
       "    <tr>\n",
       "      <th>0</th>\n",
       "      <td>1</td>\n",
       "      <td>HP</td>\n",
       "      <td>HP Pavilion 15 EG0507TU 46M06PA</td>\n",
       "      <td>15.6</td>\n",
       "      <td>Intel Core i5</td>\n",
       "      <td>8GB</td>\n",
       "      <td>SSD: 256GB</td>\n",
       "      <td>17990000</td>\n",
       "      <td>17190000</td>\n",
       "      <td>https://cellphones.com.vn/laptop-hp-pavilion-1...</td>\n",
       "      <td>CellphoneS</td>\n",
       "    </tr>\n",
       "    <tr>\n",
       "      <th>1</th>\n",
       "      <td>2</td>\n",
       "      <td>MSI</td>\n",
       "      <td>MSI Modern 14 B5M 204VN</td>\n",
       "      <td>14.0</td>\n",
       "      <td>AMD Ryzen 5</td>\n",
       "      <td>8GB</td>\n",
       "      <td>SSD: 512GB</td>\n",
       "      <td>17990000</td>\n",
       "      <td>14990000</td>\n",
       "      <td>https://cellphones.com.vn/laptop-msi-modern-14...</td>\n",
       "      <td>CellphoneS</td>\n",
       "    </tr>\n",
       "    <tr>\n",
       "      <th>2</th>\n",
       "      <td>3</td>\n",
       "      <td>Apple</td>\n",
       "      <td>Apple MacBook Pro 13 Touch Bar M1 16GB 256GB 2...</td>\n",
       "      <td>13.3</td>\n",
       "      <td>Apple M1</td>\n",
       "      <td>16GB</td>\n",
       "      <td>SSD: 256GB</td>\n",
       "      <td>42990000</td>\n",
       "      <td>37500000</td>\n",
       "      <td>https://cellphones.com.vn/macbook-pro-2020-13-...</td>\n",
       "      <td>CellphoneS</td>\n",
       "    </tr>\n",
       "    <tr>\n",
       "      <th>3</th>\n",
       "      <td>4</td>\n",
       "      <td>Asus</td>\n",
       "      <td>Laptop Asus Zenbook UX482EA KA397W</td>\n",
       "      <td>14.0</td>\n",
       "      <td>Intel Core i5</td>\n",
       "      <td>8GB</td>\n",
       "      <td>SSD: 512GB</td>\n",
       "      <td>32990000</td>\n",
       "      <td>29990000</td>\n",
       "      <td>https://cellphones.com.vn/laptop-asus-zenbook-...</td>\n",
       "      <td>CellphoneS</td>\n",
       "    </tr>\n",
       "    <tr>\n",
       "      <th>4</th>\n",
       "      <td>5</td>\n",
       "      <td>MSI</td>\n",
       "      <td>Laptop MSI Modern 15 A5M 238VN</td>\n",
       "      <td>15.6</td>\n",
       "      <td>AMD Ryzen 5</td>\n",
       "      <td>8GB</td>\n",
       "      <td>SSD: 512GB</td>\n",
       "      <td>18990000</td>\n",
       "      <td>15990000</td>\n",
       "      <td>https://cellphones.com.vn/laptop-msi-modern-15...</td>\n",
       "      <td>CellphoneS</td>\n",
       "    </tr>\n",
       "  </tbody>\n",
       "</table>\n",
       "</div>"
      ],
      "text/plain": [
       "   ID  Brand                                               Name  ScreenSize  \\\n",
       "0   1     HP                    HP Pavilion 15 EG0507TU 46M06PA        15.6   \n",
       "1   2    MSI                            MSI Modern 14 B5M 204VN        14.0   \n",
       "2   3  Apple  Apple MacBook Pro 13 Touch Bar M1 16GB 256GB 2...        13.3   \n",
       "3   4   Asus                 Laptop Asus Zenbook UX482EA KA397W        14.0   \n",
       "4   5    MSI                     Laptop MSI Modern 15 A5M 238VN        15.6   \n",
       "\n",
       "             CPU   RAM    HardDisk  DefaultPrice  SalePrice  \\\n",
       "0  Intel Core i5   8GB  SSD: 256GB      17990000   17190000   \n",
       "1    AMD Ryzen 5   8GB  SSD: 512GB      17990000   14990000   \n",
       "2       Apple M1  16GB  SSD: 256GB      42990000   37500000   \n",
       "3  Intel Core i5   8GB  SSD: 512GB      32990000   29990000   \n",
       "4    AMD Ryzen 5   8GB  SSD: 512GB      18990000   15990000   \n",
       "\n",
       "                                                Link     Website  \n",
       "0  https://cellphones.com.vn/laptop-hp-pavilion-1...  CellphoneS  \n",
       "1  https://cellphones.com.vn/laptop-msi-modern-14...  CellphoneS  \n",
       "2  https://cellphones.com.vn/macbook-pro-2020-13-...  CellphoneS  \n",
       "3  https://cellphones.com.vn/laptop-asus-zenbook-...  CellphoneS  \n",
       "4  https://cellphones.com.vn/laptop-msi-modern-15...  CellphoneS  "
      ]
     },
     "execution_count": 101,
     "metadata": {},
     "output_type": "execute_result"
    }
   ],
   "source": [
    "df.head()"
   ]
  },
  {
   "cell_type": "code",
   "execution_count": 102,
   "id": "d307b0ab",
   "metadata": {
    "colab": {
     "base_uri": "https://localhost:8080/"
    },
    "executionInfo": {
     "elapsed": 30,
     "status": "ok",
     "timestamp": 1655044288978,
     "user": {
      "displayName": "Nhóm 7 DS103.M21",
      "userId": "12706573684156505343"
     },
     "user_tz": -420
    },
    "id": "d307b0ab",
    "outputId": "b6701bc4-06bd-4acf-faf0-c99143530539"
   },
   "outputs": [
    {
     "data": {
      "text/plain": [
       "(2086, 11)"
      ]
     },
     "execution_count": 102,
     "metadata": {},
     "output_type": "execute_result"
    }
   ],
   "source": [
    "df.shape"
   ]
  },
  {
   "cell_type": "code",
   "execution_count": 103,
   "id": "945141aa",
   "metadata": {
    "colab": {
     "base_uri": "https://localhost:8080/"
    },
    "executionInfo": {
     "elapsed": 27,
     "status": "ok",
     "timestamp": 1655044288979,
     "user": {
      "displayName": "Nhóm 7 DS103.M21",
      "userId": "12706573684156505343"
     },
     "user_tz": -420
    },
    "id": "945141aa",
    "outputId": "87c89b70-9692-4f0a-836f-995c24bc564b"
   },
   "outputs": [
    {
     "name": "stdout",
     "output_type": "stream",
     "text": [
      "<class 'pandas.core.frame.DataFrame'>\n",
      "RangeIndex: 2086 entries, 0 to 2085\n",
      "Data columns (total 11 columns):\n",
      " #   Column        Non-Null Count  Dtype  \n",
      "---  ------        --------------  -----  \n",
      " 0   ID            2086 non-null   int64  \n",
      " 1   Brand         2086 non-null   object \n",
      " 2   Name          2086 non-null   object \n",
      " 3   ScreenSize    2086 non-null   float64\n",
      " 4   CPU           2086 non-null   object \n",
      " 5   RAM           2086 non-null   object \n",
      " 6   HardDisk      2086 non-null   object \n",
      " 7   DefaultPrice  2086 non-null   int64  \n",
      " 8   SalePrice     2086 non-null   int64  \n",
      " 9   Link          2086 non-null   object \n",
      " 10  Website       2086 non-null   object \n",
      "dtypes: float64(1), int64(3), object(7)\n",
      "memory usage: 179.4+ KB\n"
     ]
    }
   ],
   "source": [
    "df.info()"
   ]
  },
  {
   "cell_type": "markdown",
   "id": "d9202b61",
   "metadata": {
    "id": "d9202b61"
   },
   "source": [
    "Kiểm tra có record trùng nhau hay không"
   ]
  },
  {
   "cell_type": "code",
   "execution_count": 104,
   "id": "802627f9",
   "metadata": {
    "colab": {
     "base_uri": "https://localhost:8080/"
    },
    "executionInfo": {
     "elapsed": 24,
     "status": "ok",
     "timestamp": 1655044288979,
     "user": {
      "displayName": "Nhóm 7 DS103.M21",
      "userId": "12706573684156505343"
     },
     "user_tz": -420
    },
    "id": "802627f9",
    "outputId": "400a17a0-9770-4756-ddd5-ed09c9de7dd4"
   },
   "outputs": [
    {
     "data": {
      "text/plain": [
       "0"
      ]
     },
     "execution_count": 104,
     "metadata": {},
     "output_type": "execute_result"
    }
   ],
   "source": [
    "df.duplicated().sum()"
   ]
  },
  {
   "cell_type": "code",
   "execution_count": 105,
   "id": "a137159a",
   "metadata": {
    "colab": {
     "base_uri": "https://localhost:8080/"
    },
    "executionInfo": {
     "elapsed": 22,
     "status": "ok",
     "timestamp": 1655044288980,
     "user": {
      "displayName": "Nhóm 7 DS103.M21",
      "userId": "12706573684156505343"
     },
     "user_tz": -420
    },
    "id": "a137159a",
    "outputId": "36d4a1de-8ffe-49f8-f4b5-033e39cb7587"
   },
   "outputs": [
    {
     "data": {
      "text/plain": [
       "ID              0\n",
       "Brand           0\n",
       "Name            0\n",
       "ScreenSize      0\n",
       "CPU             0\n",
       "RAM             0\n",
       "HardDisk        0\n",
       "DefaultPrice    0\n",
       "SalePrice       0\n",
       "Link            0\n",
       "Website         0\n",
       "dtype: int64"
      ]
     },
     "execution_count": 105,
     "metadata": {},
     "output_type": "execute_result"
    }
   ],
   "source": [
    "df.isnull().sum()"
   ]
  },
  {
   "cell_type": "markdown",
   "id": "cfc7a700",
   "metadata": {
    "id": "cfc7a700"
   },
   "source": [
    "# Data Preparation"
   ]
  },
  {
   "cell_type": "markdown",
   "id": "1e8ee012",
   "metadata": {
    "id": "1e8ee012"
   },
   "source": [
    "Xóa bỏ GB ở thuộc tính RAM (8GB->8)"
   ]
  },
  {
   "cell_type": "code",
   "execution_count": 106,
   "id": "9f83fd5c",
   "metadata": {
    "executionInfo": {
     "elapsed": 21,
     "status": "ok",
     "timestamp": 1655044288981,
     "user": {
      "displayName": "Nhóm 7 DS103.M21",
      "userId": "12706573684156505343"
     },
     "user_tz": -420
    },
    "id": "9f83fd5c"
   },
   "outputs": [],
   "source": [
    "df['RAM'] = df['RAM'].str.replace('GB','')"
   ]
  },
  {
   "cell_type": "markdown",
   "id": "490c2309",
   "metadata": {
    "id": "490c2309"
   },
   "source": [
    "Chuyển kiểu sữ liệu: string -> int"
   ]
  },
  {
   "cell_type": "code",
   "execution_count": 107,
   "id": "76d0ec9a",
   "metadata": {
    "executionInfo": {
     "elapsed": 20,
     "status": "ok",
     "timestamp": 1655044288981,
     "user": {
      "displayName": "Nhóm 7 DS103.M21",
      "userId": "12706573684156505343"
     },
     "user_tz": -420
    },
    "id": "76d0ec9a"
   },
   "outputs": [],
   "source": [
    "df['RAM'] = df['RAM'].astype('int32')"
   ]
  },
  {
   "cell_type": "code",
   "execution_count": 108,
   "id": "93483ebd",
   "metadata": {
    "colab": {
     "base_uri": "https://localhost:8080/",
     "height": 250
    },
    "executionInfo": {
     "elapsed": 21,
     "status": "ok",
     "timestamp": 1655044288982,
     "user": {
      "displayName": "Nhóm 7 DS103.M21",
      "userId": "12706573684156505343"
     },
     "user_tz": -420
    },
    "id": "93483ebd",
    "outputId": "89ec8916-6dcc-4ef7-f178-dc53861a38af"
   },
   "outputs": [
    {
     "data": {
      "text/html": [
       "<div>\n",
       "<style scoped>\n",
       "    .dataframe tbody tr th:only-of-type {\n",
       "        vertical-align: middle;\n",
       "    }\n",
       "\n",
       "    .dataframe tbody tr th {\n",
       "        vertical-align: top;\n",
       "    }\n",
       "\n",
       "    .dataframe thead th {\n",
       "        text-align: right;\n",
       "    }\n",
       "</style>\n",
       "<table border=\"1\" class=\"dataframe\">\n",
       "  <thead>\n",
       "    <tr style=\"text-align: right;\">\n",
       "      <th></th>\n",
       "      <th>ID</th>\n",
       "      <th>Brand</th>\n",
       "      <th>Name</th>\n",
       "      <th>ScreenSize</th>\n",
       "      <th>CPU</th>\n",
       "      <th>RAM</th>\n",
       "      <th>HardDisk</th>\n",
       "      <th>DefaultPrice</th>\n",
       "      <th>SalePrice</th>\n",
       "      <th>Link</th>\n",
       "      <th>Website</th>\n",
       "    </tr>\n",
       "  </thead>\n",
       "  <tbody>\n",
       "    <tr>\n",
       "      <th>0</th>\n",
       "      <td>1</td>\n",
       "      <td>HP</td>\n",
       "      <td>HP Pavilion 15 EG0507TU 46M06PA</td>\n",
       "      <td>15.6</td>\n",
       "      <td>Intel Core i5</td>\n",
       "      <td>8</td>\n",
       "      <td>SSD: 256GB</td>\n",
       "      <td>17990000</td>\n",
       "      <td>17190000</td>\n",
       "      <td>https://cellphones.com.vn/laptop-hp-pavilion-1...</td>\n",
       "      <td>CellphoneS</td>\n",
       "    </tr>\n",
       "    <tr>\n",
       "      <th>1</th>\n",
       "      <td>2</td>\n",
       "      <td>MSI</td>\n",
       "      <td>MSI Modern 14 B5M 204VN</td>\n",
       "      <td>14.0</td>\n",
       "      <td>AMD Ryzen 5</td>\n",
       "      <td>8</td>\n",
       "      <td>SSD: 512GB</td>\n",
       "      <td>17990000</td>\n",
       "      <td>14990000</td>\n",
       "      <td>https://cellphones.com.vn/laptop-msi-modern-14...</td>\n",
       "      <td>CellphoneS</td>\n",
       "    </tr>\n",
       "    <tr>\n",
       "      <th>2</th>\n",
       "      <td>3</td>\n",
       "      <td>Apple</td>\n",
       "      <td>Apple MacBook Pro 13 Touch Bar M1 16GB 256GB 2...</td>\n",
       "      <td>13.3</td>\n",
       "      <td>Apple M1</td>\n",
       "      <td>16</td>\n",
       "      <td>SSD: 256GB</td>\n",
       "      <td>42990000</td>\n",
       "      <td>37500000</td>\n",
       "      <td>https://cellphones.com.vn/macbook-pro-2020-13-...</td>\n",
       "      <td>CellphoneS</td>\n",
       "    </tr>\n",
       "    <tr>\n",
       "      <th>3</th>\n",
       "      <td>4</td>\n",
       "      <td>Asus</td>\n",
       "      <td>Laptop Asus Zenbook UX482EA KA397W</td>\n",
       "      <td>14.0</td>\n",
       "      <td>Intel Core i5</td>\n",
       "      <td>8</td>\n",
       "      <td>SSD: 512GB</td>\n",
       "      <td>32990000</td>\n",
       "      <td>29990000</td>\n",
       "      <td>https://cellphones.com.vn/laptop-asus-zenbook-...</td>\n",
       "      <td>CellphoneS</td>\n",
       "    </tr>\n",
       "    <tr>\n",
       "      <th>4</th>\n",
       "      <td>5</td>\n",
       "      <td>MSI</td>\n",
       "      <td>Laptop MSI Modern 15 A5M 238VN</td>\n",
       "      <td>15.6</td>\n",
       "      <td>AMD Ryzen 5</td>\n",
       "      <td>8</td>\n",
       "      <td>SSD: 512GB</td>\n",
       "      <td>18990000</td>\n",
       "      <td>15990000</td>\n",
       "      <td>https://cellphones.com.vn/laptop-msi-modern-15...</td>\n",
       "      <td>CellphoneS</td>\n",
       "    </tr>\n",
       "  </tbody>\n",
       "</table>\n",
       "</div>"
      ],
      "text/plain": [
       "   ID  Brand                                               Name  ScreenSize  \\\n",
       "0   1     HP                    HP Pavilion 15 EG0507TU 46M06PA        15.6   \n",
       "1   2    MSI                            MSI Modern 14 B5M 204VN        14.0   \n",
       "2   3  Apple  Apple MacBook Pro 13 Touch Bar M1 16GB 256GB 2...        13.3   \n",
       "3   4   Asus                 Laptop Asus Zenbook UX482EA KA397W        14.0   \n",
       "4   5    MSI                     Laptop MSI Modern 15 A5M 238VN        15.6   \n",
       "\n",
       "             CPU  RAM    HardDisk  DefaultPrice  SalePrice  \\\n",
       "0  Intel Core i5    8  SSD: 256GB      17990000   17190000   \n",
       "1    AMD Ryzen 5    8  SSD: 512GB      17990000   14990000   \n",
       "2       Apple M1   16  SSD: 256GB      42990000   37500000   \n",
       "3  Intel Core i5    8  SSD: 512GB      32990000   29990000   \n",
       "4    AMD Ryzen 5    8  SSD: 512GB      18990000   15990000   \n",
       "\n",
       "                                                Link     Website  \n",
       "0  https://cellphones.com.vn/laptop-hp-pavilion-1...  CellphoneS  \n",
       "1  https://cellphones.com.vn/laptop-msi-modern-14...  CellphoneS  \n",
       "2  https://cellphones.com.vn/macbook-pro-2020-13-...  CellphoneS  \n",
       "3  https://cellphones.com.vn/laptop-asus-zenbook-...  CellphoneS  \n",
       "4  https://cellphones.com.vn/laptop-msi-modern-15...  CellphoneS  "
      ]
     },
     "execution_count": 108,
     "metadata": {},
     "output_type": "execute_result"
    }
   ],
   "source": [
    "df.head()"
   ]
  },
  {
   "cell_type": "code",
   "execution_count": 109,
   "id": "974f4cc0",
   "metadata": {
    "colab": {
     "base_uri": "https://localhost:8080/"
    },
    "executionInfo": {
     "elapsed": 21,
     "status": "ok",
     "timestamp": 1655044288983,
     "user": {
      "displayName": "Nhóm 7 DS103.M21",
      "userId": "12706573684156505343"
     },
     "user_tz": -420
    },
    "id": "974f4cc0",
    "outputId": "d387b43c-aa76-4d23-c156-fd1decf3a4f3"
   },
   "outputs": [
    {
     "name": "stdout",
     "output_type": "stream",
     "text": [
      "<class 'pandas.core.frame.DataFrame'>\n",
      "RangeIndex: 2086 entries, 0 to 2085\n",
      "Data columns (total 11 columns):\n",
      " #   Column        Non-Null Count  Dtype  \n",
      "---  ------        --------------  -----  \n",
      " 0   ID            2086 non-null   int64  \n",
      " 1   Brand         2086 non-null   object \n",
      " 2   Name          2086 non-null   object \n",
      " 3   ScreenSize    2086 non-null   float64\n",
      " 4   CPU           2086 non-null   object \n",
      " 5   RAM           2086 non-null   int32  \n",
      " 6   HardDisk      2086 non-null   object \n",
      " 7   DefaultPrice  2086 non-null   int64  \n",
      " 8   SalePrice     2086 non-null   int64  \n",
      " 9   Link          2086 non-null   object \n",
      " 10  Website       2086 non-null   object \n",
      "dtypes: float64(1), int32(1), int64(3), object(6)\n",
      "memory usage: 171.2+ KB\n"
     ]
    }
   ],
   "source": [
    "df.info()"
   ]
  },
  {
   "cell_type": "markdown",
   "id": "62e82134",
   "metadata": {
    "id": "62e82134"
   },
   "source": [
    "#### Sự phân bố giá"
   ]
  },
  {
   "cell_type": "code",
   "execution_count": 110,
   "id": "8f71207c",
   "metadata": {
    "colab": {
     "base_uri": "https://localhost:8080/",
     "height": 345
    },
    "executionInfo": {
     "elapsed": 524,
     "status": "ok",
     "timestamp": 1655044289489,
     "user": {
      "displayName": "Nhóm 7 DS103.M21",
      "userId": "12706573684156505343"
     },
     "user_tz": -420
    },
    "id": "8f71207c",
    "outputId": "85a21fc3-a74d-45ea-915e-d243f2caf581"
   },
   "outputs": [
    {
     "name": "stderr",
     "output_type": "stream",
     "text": [
      "C:\\Users\\ADMIN\\anaconda3\\lib\\site-packages\\seaborn\\distributions.py:2619: FutureWarning: `distplot` is a deprecated function and will be removed in a future version. Please adapt your code to use either `displot` (a figure-level function with similar flexibility) or `histplot` (an axes-level function for histograms).\n",
      "  warnings.warn(msg, FutureWarning)\n"
     ]
    },
    {
     "data": {
      "image/png": "[encoded data removed]",
      "text/plain": [
       "<Figure size 432x288 with 1 Axes>"
      ]
     },
     "metadata": {
      "needs_background": "light"
     },
     "output_type": "display_data"
    }
   ],
   "source": [
    "sns.distplot(df['DefaultPrice']);"
   ]
  },
  {
   "cell_type": "code",
   "execution_count": 111,
   "id": "e4882790",
   "metadata": {
    "colab": {
     "base_uri": "https://localhost:8080/",
     "height": 345
    },
    "executionInfo": {
     "elapsed": 579,
     "status": "ok",
     "timestamp": 1655044290062,
     "user": {
      "displayName": "Nhóm 7 DS103.M21",
      "userId": "12706573684156505343"
     },
     "user_tz": -420
    },
    "id": "e4882790",
    "outputId": "09d1437d-7ed2-4f5b-ee2a-4f306ea551ff"
   },
   "outputs": [
    {
     "name": "stderr",
     "output_type": "stream",
     "text": [
      "C:\\Users\\ADMIN\\anaconda3\\lib\\site-packages\\seaborn\\distributions.py:2619: FutureWarning: `distplot` is a deprecated function and will be removed in a future version. Please adapt your code to use either `displot` (a figure-level function with similar flexibility) or `histplot` (an axes-level function for histograms).\n",
      "  warnings.warn(msg, FutureWarning)\n"
     ]
    },
    {
     "data": {
      "image/png": "[encoded data removed]",
      "text/plain": [
       "<Figure size 432x288 with 1 Axes>"
      ]
     },
     "metadata": {
      "needs_background": "light"
     },
     "output_type": "display_data"
    }
   ],
   "source": [
    "sns.distplot(df['SalePrice']);"
   ]
  },
  {
   "cell_type": "code",
   "execution_count": 112,
   "id": "facee58d",
   "metadata": {
    "colab": {
     "base_uri": "https://localhost:8080/",
     "height": 81
    },
    "executionInfo": {
     "elapsed": 13,
     "status": "ok",
     "timestamp": 1655044290063,
     "user": {
      "displayName": "Nhóm 7 DS103.M21",
      "userId": "12706573684156505343"
     },
     "user_tz": -420
    },
    "id": "facee58d",
    "outputId": "1b7448d8-c8ab-47cc-ca51-5f30547a747c"
   },
   "outputs": [
    {
     "data": {
      "text/html": [
       "<div>\n",
       "<style scoped>\n",
       "    .dataframe tbody tr th:only-of-type {\n",
       "        vertical-align: middle;\n",
       "    }\n",
       "\n",
       "    .dataframe tbody tr th {\n",
       "        vertical-align: top;\n",
       "    }\n",
       "\n",
       "    .dataframe thead th {\n",
       "        text-align: right;\n",
       "    }\n",
       "</style>\n",
       "<table border=\"1\" class=\"dataframe\">\n",
       "  <thead>\n",
       "    <tr style=\"text-align: right;\">\n",
       "      <th></th>\n",
       "      <th>min_saleprice</th>\n",
       "      <th>max_saleprice</th>\n",
       "      <th>min_defprice</th>\n",
       "      <th>max_defprice</th>\n",
       "    </tr>\n",
       "  </thead>\n",
       "  <tbody>\n",
       "    <tr>\n",
       "      <th>0</th>\n",
       "      <td>3900000</td>\n",
       "      <td>179990000</td>\n",
       "      <td>3900000</td>\n",
       "      <td>179990000</td>\n",
       "    </tr>\n",
       "  </tbody>\n",
       "</table>\n",
       "</div>"
      ],
      "text/plain": [
       "   min_saleprice  max_saleprice  min_defprice  max_defprice\n",
       "0        3900000      179990000       3900000     179990000"
      ]
     },
     "execution_count": 112,
     "metadata": {},
     "output_type": "execute_result"
    }
   ],
   "source": [
    "d = {\"min_saleprice\": [df[\"SalePrice\"].min()] , \n",
    "     \"max_saleprice\": [df[\"SalePrice\"].max()],\n",
    "    \"min_defprice\": [df[\"DefaultPrice\"].min()],\n",
    "     \"max_defprice\": [df[\"DefaultPrice\"].max()]\n",
    "    }\n",
    "min_max_price=pd.DataFrame(d)\n",
    "min_max_price"
   ]
  },
  {
   "cell_type": "markdown",
   "id": "48661451",
   "metadata": {
    "id": "48661451"
   },
   "source": [
    "#### Số lượng laptop theo Brand"
   ]
  },
  {
   "cell_type": "code",
   "execution_count": 113,
   "id": "28db4368",
   "metadata": {
    "colab": {
     "base_uri": "https://localhost:8080/",
     "height": 0
    },
    "executionInfo": {
     "elapsed": 494,
     "status": "ok",
     "timestamp": 1655044290546,
     "user": {
      "displayName": "Nhóm 7 DS103.M21",
      "userId": "12706573684156505343"
     },
     "user_tz": -420
    },
    "id": "28db4368",
    "outputId": "916b1a15-6511-4fd8-bed9-806ed9cfb4c6"
   },
   "outputs": [
    {
     "data": {
      "text/plain": [
       "<AxesSubplot:>"
      ]
     },
     "execution_count": 113,
     "metadata": {},
     "output_type": "execute_result"
    },
    {
     "data": {
      "image/png": "[encoded data removed]",
      "text/plain": [
       "<Figure size 432x288 with 1 Axes>"
      ]
     },
     "metadata": {
      "needs_background": "light"
     },
     "output_type": "display_data"
    }
   ],
   "source": [
    "df['Brand'].value_counts().plot(kind='bar')"
   ]
  },
  {
   "cell_type": "code",
   "execution_count": 114,
   "id": "aba52853",
   "metadata": {
    "colab": {
     "base_uri": "https://localhost:8080/",
     "height": 0
    },
    "executionInfo": {
     "elapsed": 416,
     "status": "ok",
     "timestamp": 1655044290960,
     "user": {
      "displayName": "Nhóm 7 DS103.M21",
      "userId": "12706573684156505343"
     },
     "user_tz": -420
    },
    "id": "aba52853",
    "outputId": "16af6cff-5154-4135-daaf-2b0c9817ab3f"
   },
   "outputs": [
    {
     "data": {
      "image/png": "[encoded data removed]",
      "text/plain": [
       "<Figure size 432x288 with 1 Axes>"
      ]
     },
     "metadata": {
      "needs_background": "light"
     },
     "output_type": "display_data"
    }
   ],
   "source": [
    "sns.barplot(x=df['Brand'],y=df['DefaultPrice'],color='orange')\n",
    "plt.xticks(rotation='vertical')\n",
    "plt.show()"
   ]
  },
  {
   "cell_type": "markdown",
   "id": "928a2055",
   "metadata": {
    "id": "928a2055"
   },
   "source": [
    "#### Tần suất phân bố của ScreenSize"
   ]
  },
  {
   "cell_type": "code",
   "execution_count": 115,
   "id": "6f120283",
   "metadata": {
    "colab": {
     "base_uri": "https://localhost:8080/"
    },
    "executionInfo": {
     "elapsed": 9,
     "status": "ok",
     "timestamp": 1655044290960,
     "user": {
      "displayName": "Nhóm 7 DS103.M21",
      "userId": "12706573684156505343"
     },
     "user_tz": -420
    },
    "id": "6f120283",
    "outputId": "dfa52f63-2067-4bf6-e59c-cea65c777994"
   },
   "outputs": [
    {
     "data": {
      "text/plain": [
       "15.6    920\n",
       "14.0    713\n",
       "13.3    160\n",
       "16.1     45\n",
       "16.0     42\n",
       "17.3     32\n",
       "11.6     30\n",
       "12.3     22\n",
       "16.2     21\n",
       "13.0     18\n",
       "12.4     16\n",
       "14.2     15\n",
       "13.4     15\n",
       "17.0      8\n",
       "24.0      7\n",
       "13.5      7\n",
       "14.1      6\n",
       "7.0       2\n",
       "12.5      2\n",
       "10.3      1\n",
       "10.1      1\n",
       "8.4       1\n",
       "11.0      1\n",
       "21.5      1\n",
       "Name: ScreenSize, dtype: int64"
      ]
     },
     "execution_count": 115,
     "metadata": {},
     "output_type": "execute_result"
    }
   ],
   "source": [
    "df['ScreenSize'].value_counts()"
   ]
  },
  {
   "cell_type": "code",
   "execution_count": 116,
   "id": "b533deb0",
   "metadata": {
    "colab": {
     "base_uri": "https://localhost:8080/",
     "height": 0
    },
    "executionInfo": {
     "elapsed": 492,
     "status": "ok",
     "timestamp": 1655044291445,
     "user": {
      "displayName": "Nhóm 7 DS103.M21",
      "userId": "12706573684156505343"
     },
     "user_tz": -420
    },
    "id": "b533deb0",
    "outputId": "32f6db5a-a220-41de-88ca-94cf81d707f5",
    "scrolled": true
   },
   "outputs": [
    {
     "name": "stderr",
     "output_type": "stream",
     "text": [
      "C:\\Users\\ADMIN\\anaconda3\\lib\\site-packages\\seaborn\\distributions.py:2619: FutureWarning: `distplot` is a deprecated function and will be removed in a future version. Please adapt your code to use either `displot` (a figure-level function with similar flexibility) or `histplot` (an axes-level function for histograms).\n",
      "  warnings.warn(msg, FutureWarning)\n"
     ]
    },
    {
     "data": {
      "text/plain": [
       "<AxesSubplot:xlabel='ScreenSize', ylabel='Density'>"
      ]
     },
     "execution_count": 116,
     "metadata": {},
     "output_type": "execute_result"
    },
    {
     "data": {
      "image/png": "[encoded data removed]",
      "text/plain": [
       "<Figure size 432x288 with 1 Axes>"
      ]
     },
     "metadata": {
      "needs_background": "light"
     },
     "output_type": "display_data"
    }
   ],
   "source": [
    "sns.distplot(df['ScreenSize'])"
   ]
  },
  {
   "cell_type": "markdown",
   "id": "2cf50286",
   "metadata": {
    "id": "2cf50286"
   },
   "source": [
    "#### Mối quan hệ giữa ScreenSize và DefaultPrice"
   ]
  },
  {
   "cell_type": "code",
   "execution_count": 117,
   "id": "a4154818",
   "metadata": {
    "colab": {
     "base_uri": "https://localhost:8080/",
     "height": 0
    },
    "executionInfo": {
     "elapsed": 12,
     "status": "ok",
     "timestamp": 1655044291446,
     "user": {
      "displayName": "Nhóm 7 DS103.M21",
      "userId": "12706573684156505343"
     },
     "user_tz": -420
    },
    "id": "a4154818",
    "outputId": "99514b90-8797-4f6a-8cdb-8b07e827454f"
   },
   "outputs": [
    {
     "data": {
      "text/plain": [
       "<AxesSubplot:xlabel='ScreenSize', ylabel='DefaultPrice'>"
      ]
     },
     "execution_count": 117,
     "metadata": {},
     "output_type": "execute_result"
    },
    {
     "data": {
      "image/png": "[encoded data removed]",
      "text/plain": [
       "<Figure size 432x288 with 1 Axes>"
      ]
     },
     "metadata": {
      "needs_background": "light"
     },
     "output_type": "display_data"
    }
   ],
   "source": [
    "sns.scatterplot(x=df['ScreenSize'],y=df['DefaultPrice'])"
   ]
  },
  {
   "cell_type": "markdown",
   "id": "699b089c",
   "metadata": {
    "id": "699b089c"
   },
   "source": [
    "#### CPU"
   ]
  },
  {
   "cell_type": "code",
   "execution_count": 118,
   "id": "016fe611",
   "metadata": {
    "colab": {
     "base_uri": "https://localhost:8080/"
    },
    "executionInfo": {
     "elapsed": 11,
     "status": "ok",
     "timestamp": 1655044291447,
     "user": {
      "displayName": "Nhóm 7 DS103.M21",
      "userId": "12706573684156505343"
     },
     "user_tz": -420
    },
    "id": "016fe611",
    "outputId": "b973cc0a-b158-4d52-82a2-e48b67d16a1a"
   },
   "outputs": [
    {
     "data": {
      "text/plain": [
       "Intel Core i5       793\n",
       "Intel Core i7       347\n",
       "Intel Core i3       313\n",
       "AMD Ryzen 5         211\n",
       "AMD Ryzen 7         154\n",
       "Apple M1             58\n",
       "Intel Celeron        58\n",
       "AMD Ryzen 3          44\n",
       "Intel Pentium        35\n",
       "Apple M1 Pro         34\n",
       "AMD Ryzen 9          21\n",
       "Intel Core i9         8\n",
       "Apple M1 Max          6\n",
       "Intel Core m3         2\n",
       "Intel Core i8         1\n",
       "Intel Core 2 Duo      1\n",
       "Name: CPU, dtype: int64"
      ]
     },
     "execution_count": 118,
     "metadata": {},
     "output_type": "execute_result"
    }
   ],
   "source": [
    "df[\"CPU\"].value_counts()"
   ]
  },
  {
   "cell_type": "code",
   "execution_count": 119,
   "id": "d4afaadf",
   "metadata": {
    "colab": {
     "base_uri": "https://localhost:8080/",
     "height": 0
    },
    "executionInfo": {
     "elapsed": 375,
     "status": "ok",
     "timestamp": 1655044291812,
     "user": {
      "displayName": "Nhóm 7 DS103.M21",
      "userId": "12706573684156505343"
     },
     "user_tz": -420
    },
    "id": "d4afaadf",
    "outputId": "a44a90bc-1c09-4af8-8f15-4cece3c4c66f",
    "scrolled": true
   },
   "outputs": [
    {
     "data": {
      "text/plain": [
       "<AxesSubplot:>"
      ]
     },
     "execution_count": 119,
     "metadata": {},
     "output_type": "execute_result"
    },
    {
     "data": {
      "image/png": "[encoded data removed]",
      "text/plain": [
       "<Figure size 432x288 with 1 Axes>"
      ]
     },
     "metadata": {
      "needs_background": "light"
     },
     "output_type": "display_data"
    }
   ],
   "source": [
    "df['CPU'].value_counts().plot(kind='bar')"
   ]
  },
  {
   "cell_type": "code",
   "execution_count": 120,
   "id": "c79bcf94",
   "metadata": {
    "colab": {
     "base_uri": "https://localhost:8080/",
     "height": 0
    },
    "executionInfo": {
     "elapsed": 420,
     "status": "ok",
     "timestamp": 1655044292224,
     "user": {
      "displayName": "Nhóm 7 DS103.M21",
      "userId": "12706573684156505343"
     },
     "user_tz": -420
    },
    "id": "c79bcf94",
    "outputId": "845df2c0-366c-469c-af27-dc8117d892cf"
   },
   "outputs": [
    {
     "data": {
      "image/png": "[encoded data removed]",
      "text/plain": [
       "<Figure size 432x288 with 1 Axes>"
      ]
     },
     "metadata": {
      "needs_background": "light"
     },
     "output_type": "display_data"
    }
   ],
   "source": [
    "\n",
    "g=sns.barplot(x=df['CPU'],y=df['DefaultPrice'],color='orange')\n",
    "plt.xticks(rotation='vertical')\n",
    "ticks = [4000000,40000000,80000000,120000000, 160000000]\n",
    "g.set_yticks(ticks)\n",
    "g.set_yticklabels(ticks)\n",
    "plt.show()"
   ]
  },
  {
   "cell_type": "markdown",
   "id": "bbe83872",
   "metadata": {
    "id": "bbe83872"
   },
   "source": [
    "#### RAM"
   ]
  },
  {
   "cell_type": "code",
   "execution_count": 121,
   "id": "4a1bdcac",
   "metadata": {
    "colab": {
     "base_uri": "https://localhost:8080/",
     "height": 0
    },
    "executionInfo": {
     "elapsed": 415,
     "status": "ok",
     "timestamp": 1655044292634,
     "user": {
      "displayName": "Nhóm 7 DS103.M21",
      "userId": "12706573684156505343"
     },
     "user_tz": -420
    },
    "id": "4a1bdcac",
    "outputId": "3c8e0a3b-ebfd-4878-932b-501f6af428a3"
   },
   "outputs": [
    {
     "data": {
      "image/png": "[encoded data removed]",
      "text/plain": [
       "<Figure size 432x288 with 1 Axes>"
      ]
     },
     "metadata": {
      "needs_background": "light"
     },
     "output_type": "display_data"
    }
   ],
   "source": [
    "g=sns.barplot(x=df['RAM'],y=df['DefaultPrice'])\n",
    "plt.xticks(rotation='vertical')\n",
    "ticks = [4000000,40000000,80000000,120000000, 160000000]\n",
    "g.set_yticks(ticks)\n",
    "g.set_yticklabels(ticks)\n",
    "plt.show()"
   ]
  },
  {
   "cell_type": "markdown",
   "id": "389faf49",
   "metadata": {
    "id": "389faf49"
   },
   "source": [
    "#### Số lượng web có trong dataset"
   ]
  },
  {
   "cell_type": "code",
   "execution_count": 122,
   "id": "d617b9e2",
   "metadata": {
    "colab": {
     "base_uri": "https://localhost:8080/"
    },
    "executionInfo": {
     "elapsed": 16,
     "status": "ok",
     "timestamp": 1655044292635,
     "user": {
      "displayName": "Nhóm 7 DS103.M21",
      "userId": "12706573684156505343"
     },
     "user_tz": -420
    },
    "id": "d617b9e2",
    "outputId": "d2e3e404-c8ff-49c9-c724-f01a873de82f"
   },
   "outputs": [
    {
     "data": {
      "text/plain": [
       "Sendo            596\n",
       "CellphoneS       537\n",
       "Tiki             421\n",
       "TheGioiDiDong    278\n",
       "FPTshop          254\n",
       "Name: Website, dtype: int64"
      ]
     },
     "execution_count": 122,
     "metadata": {},
     "output_type": "execute_result"
    }
   ],
   "source": [
    "df[\"Website\"].value_counts()"
   ]
  },
  {
   "cell_type": "code",
   "execution_count": 123,
   "id": "d54237a8",
   "metadata": {
    "colab": {
     "base_uri": "https://localhost:8080/",
     "height": 0
    },
    "executionInfo": {
     "elapsed": 614,
     "status": "ok",
     "timestamp": 1655044293236,
     "user": {
      "displayName": "Nhóm 7 DS103.M21",
      "userId": "12706573684156505343"
     },
     "user_tz": -420
    },
    "id": "d54237a8",
    "outputId": "fe2cbb89-d35d-432c-fd1e-7338932999a3"
   },
   "outputs": [
    {
     "data": {
      "text/plain": [
       "<AxesSubplot:>"
      ]
     },
     "execution_count": 123,
     "metadata": {},
     "output_type": "execute_result"
    },
    {
     "data": {
      "image/png": "[encoded data removed]",
      "text/plain": [
       "<Figure size 432x288 with 1 Axes>"
      ]
     },
     "metadata": {
      "needs_background": "light"
     },
     "output_type": "display_data"
    }
   ],
   "source": [
    "df[\"Website\"].value_counts().plot(kind='bar')"
   ]
  },
  {
   "cell_type": "code",
   "execution_count": 124,
   "id": "3aed7f49",
   "metadata": {
    "colab": {
     "base_uri": "https://localhost:8080/",
     "height": 0
    },
    "executionInfo": {
     "elapsed": 736,
     "status": "ok",
     "timestamp": 1655044293968,
     "user": {
      "displayName": "Nhóm 7 DS103.M21",
      "userId": "12706573684156505343"
     },
     "user_tz": -420
    },
    "id": "3aed7f49",
    "outputId": "38e607ec-77ab-4123-8408-5c21eccd48d0"
   },
   "outputs": [
    {
     "data": {
      "image/png": "[encoded data removed]",
      "text/plain": [
       "<Figure size 432x288 with 1 Axes>"
      ]
     },
     "metadata": {
      "needs_background": "light"
     },
     "output_type": "display_data"
    }
   ],
   "source": [
    "sns.barplot(x=df['Website'],y=df['DefaultPrice'],color='orange')\n",
    "plt.xticks(rotation='vertical')\n",
    "plt.show()"
   ]
  },
  {
   "cell_type": "markdown",
   "id": "49ecebaa",
   "metadata": {
    "id": "49ecebaa"
   },
   "source": [
    "#### HardDisk"
   ]
  },
  {
   "cell_type": "code",
   "execution_count": 125,
   "id": "66316654",
   "metadata": {
    "colab": {
     "base_uri": "https://localhost:8080/"
    },
    "executionInfo": {
     "elapsed": 32,
     "status": "ok",
     "timestamp": 1655044293969,
     "user": {
      "displayName": "Nhóm 7 DS103.M21",
      "userId": "12706573684156505343"
     },
     "user_tz": -420
    },
    "id": "66316654",
    "outputId": "f5f76351-da86-4d7b-da43-efac20844a84"
   },
   "outputs": [
    {
     "data": {
      "text/plain": [
       "SSD: 512GB                 1239\n",
       "SSD: 256GB                  545\n",
       "SSD: 128GB                  100\n",
       "SSD: 1TB                     97\n",
       "HDD: 1TB                     52\n",
       "SSD: 2TB                     11\n",
       "eMMC: 128GB                  10\n",
       "HDD: 512GB                    6\n",
       "HDD: 1TB + SSD: 256GB         5\n",
       "eMMC: 64GB                    5\n",
       "HDD: 256GB                    3\n",
       "HDD: 320GB                    3\n",
       "HDD: 1TB + SSD: 128GB         2\n",
       "SSD : 4TB                     1\n",
       "SSD : 8TB                     1\n",
       "SSD: 480GB                    1\n",
       "SSD: 64GB                     1\n",
       "HDD: 160GB                    1\n",
       "SSD: 128GB                    1\n",
       "HDD: 128GB                    1\n",
       "HDD: 512GB + SSD: 128GB       1\n",
       "Name: HardDisk, dtype: int64"
      ]
     },
     "execution_count": 125,
     "metadata": {},
     "output_type": "execute_result"
    }
   ],
   "source": [
    "df['HardDisk'].value_counts()"
   ]
  },
  {
   "cell_type": "markdown",
   "id": "aa63e2dd",
   "metadata": {
    "id": "aa63e2dd"
   },
   "source": [
    "#### Vì HardDisk 1 cột có các thông tin của HHD, SSD, eMMC nêm không thỏa mãn tính chất tidy data. Nêm cần tách ra thành các thuộc tính riêng biệt. Trong 1 record, thuộc tính nào không có dữ liệu thì mặc định sẽ là 0."
   ]
  },
  {
   "cell_type": "code",
   "execution_count": 126,
   "id": "3ad546dd",
   "metadata": {
    "colab": {
     "base_uri": "https://localhost:8080/"
    },
    "executionInfo": {
     "elapsed": 30,
     "status": "ok",
     "timestamp": 1655044293969,
     "user": {
      "displayName": "Nhóm 7 DS103.M21",
      "userId": "12706573684156505343"
     },
     "user_tz": -420
    },
    "id": "3ad546dd",
    "outputId": "d73772e0-fc13-4020-f860-6e2c422322b1"
   },
   "outputs": [
    {
     "name": "stderr",
     "output_type": "stream",
     "text": [
      "C:\\Users\\ADMIN\\AppData\\Local\\Temp\\ipykernel_13808\\191567181.py:17: FutureWarning: The default value of regex will change from True to False in a future version.\n",
      "  dftest['first'] = dftest['first'].str.replace(r'\\D', '')\n",
      "C:\\Users\\ADMIN\\AppData\\Local\\Temp\\ipykernel_13808\\191567181.py:24: FutureWarning: The default value of regex will change from True to False in a future version.\n",
      "  dftest['second'] = dftest['second'].str.replace(r'\\D', '')\n"
     ]
    }
   ],
   "source": [
    "dftest = df\n",
    "\n",
    "dftest['HardDisk'] = dftest['HardDisk'].astype(str).replace('\\.0', '', regex=True)\n",
    "dftest[\"HardDisk\"] = dftest[\"HardDisk\"].str.replace('GB', '')\n",
    "dftest[\"HardDisk\"] = dftest[\"HardDisk\"].str.replace('TB', '000')\n",
    "\n",
    "new = dftest[\"HardDisk\"].str.split(\"+\", n = 1, expand = True)\n",
    "dftest[\"first\"]= new[0]\n",
    "dftest[\"first\"]=dftest[\"first\"].str.strip()\n",
    "\n",
    "dftest[\"second\"]= new[1]\n",
    "\n",
    "dftest[\"Layer1HDD\"] = dftest[\"first\"].apply(lambda x: 1 if \"HDD\" in x else 0)\n",
    "dftest[\"Layer1SSD\"] = dftest[\"first\"].apply(lambda x: 1 if \"SSD\" in x else 0)\n",
    "dftest[\"Layer1eMMC\"] = dftest[\"first\"].apply(lambda x: 1 if \"eMMC\" in x else 0)\n",
    "\n",
    "dftest['first'] = dftest['first'].str.replace(r'\\D', '')\n",
    "dftest[\"second\"].fillna(\"0\", inplace = True)\n",
    "\n",
    "dftest[\"Layer2HDD\"] = dftest[\"second\"].apply(lambda x: 1 if \"HDD\" in x else 0)\n",
    "dftest[\"Layer2SSD\"] = dftest[\"second\"].apply(lambda x: 1 if \"SSD\" in x else 0)\n",
    "dftest[\"Layer2eMMC\"] = dftest[\"second\"].apply(lambda x: 1 if \"eMMC\" in x else 0)\n",
    "\n",
    "dftest['second'] = dftest['second'].str.replace(r'\\D', '')\n",
    "dftest[\"first\"] = dftest[\"first\"].astype(int)\n",
    "dftest[\"second\"] = dftest[\"second\"].astype(int)\n",
    "\n",
    "dftest[\"HDD\"]=(dftest[\"first\"]*dftest[\"Layer1HDD\"]+dftest[\"second\"]*dftest[\"Layer2HDD\"])\n",
    "dftest[\"SSD\"]=(dftest[\"first\"]*dftest[\"Layer1SSD\"]+dftest[\"second\"]*dftest[\"Layer2SSD\"])\n",
    "dftest[\"eMMC\"]=(dftest[\"first\"]*dftest[\"Layer1eMMC\"]+dftest[\"second\"]*dftest[\"Layer2eMMC\"])\n",
    "\n",
    "dftest.drop(columns=['first', 'second', 'Layer1HDD', 'Layer1SSD', 'Layer2eMMC',\n",
    "       'Layer2HDD', 'Layer2SSD', 'Layer2eMMC', \"Layer1eMMC\"],inplace=True)"
   ]
  },
  {
   "cell_type": "code",
   "execution_count": 127,
   "id": "d0ef9123",
   "metadata": {
    "executionInfo": {
     "elapsed": 28,
     "status": "ok",
     "timestamp": 1655044293969,
     "user": {
      "displayName": "Nhóm 7 DS103.M21",
      "userId": "12706573684156505343"
     },
     "user_tz": -420
    },
    "id": "d0ef9123"
   },
   "outputs": [],
   "source": [
    "df=dftest\n",
    "df.drop(columns=['HardDisk'],inplace=True)"
   ]
  },
  {
   "cell_type": "code",
   "execution_count": 128,
   "id": "ba87b990",
   "metadata": {
    "colab": {
     "base_uri": "https://localhost:8080/",
     "height": 0
    },
    "executionInfo": {
     "elapsed": 28,
     "status": "ok",
     "timestamp": 1655044293970,
     "user": {
      "displayName": "Nhóm 7 DS103.M21",
      "userId": "12706573684156505343"
     },
     "user_tz": -420
    },
    "id": "ba87b990",
    "outputId": "55f715e1-c2e2-4bd1-c68f-c607039f6641"
   },
   "outputs": [
    {
     "data": {
      "text/html": [
       "<div>\n",
       "<style scoped>\n",
       "    .dataframe tbody tr th:only-of-type {\n",
       "        vertical-align: middle;\n",
       "    }\n",
       "\n",
       "    .dataframe tbody tr th {\n",
       "        vertical-align: top;\n",
       "    }\n",
       "\n",
       "    .dataframe thead th {\n",
       "        text-align: right;\n",
       "    }\n",
       "</style>\n",
       "<table border=\"1\" class=\"dataframe\">\n",
       "  <thead>\n",
       "    <tr style=\"text-align: right;\">\n",
       "      <th></th>\n",
       "      <th>ID</th>\n",
       "      <th>Brand</th>\n",
       "      <th>Name</th>\n",
       "      <th>ScreenSize</th>\n",
       "      <th>CPU</th>\n",
       "      <th>RAM</th>\n",
       "      <th>DefaultPrice</th>\n",
       "      <th>SalePrice</th>\n",
       "      <th>Link</th>\n",
       "      <th>Website</th>\n",
       "      <th>HDD</th>\n",
       "      <th>SSD</th>\n",
       "      <th>eMMC</th>\n",
       "    </tr>\n",
       "  </thead>\n",
       "  <tbody>\n",
       "    <tr>\n",
       "      <th>0</th>\n",
       "      <td>1</td>\n",
       "      <td>HP</td>\n",
       "      <td>HP Pavilion 15 EG0507TU 46M06PA</td>\n",
       "      <td>15.6</td>\n",
       "      <td>Intel Core i5</td>\n",
       "      <td>8</td>\n",
       "      <td>17990000</td>\n",
       "      <td>17190000</td>\n",
       "      <td>https://cellphones.com.vn/laptop-hp-pavilion-1...</td>\n",
       "      <td>CellphoneS</td>\n",
       "      <td>0</td>\n",
       "      <td>256</td>\n",
       "      <td>0</td>\n",
       "    </tr>\n",
       "    <tr>\n",
       "      <th>1</th>\n",
       "      <td>2</td>\n",
       "      <td>MSI</td>\n",
       "      <td>MSI Modern 14 B5M 204VN</td>\n",
       "      <td>14.0</td>\n",
       "      <td>AMD Ryzen 5</td>\n",
       "      <td>8</td>\n",
       "      <td>17990000</td>\n",
       "      <td>14990000</td>\n",
       "      <td>https://cellphones.com.vn/laptop-msi-modern-14...</td>\n",
       "      <td>CellphoneS</td>\n",
       "      <td>0</td>\n",
       "      <td>512</td>\n",
       "      <td>0</td>\n",
       "    </tr>\n",
       "    <tr>\n",
       "      <th>2</th>\n",
       "      <td>3</td>\n",
       "      <td>Apple</td>\n",
       "      <td>Apple MacBook Pro 13 Touch Bar M1 16GB 256GB 2...</td>\n",
       "      <td>13.3</td>\n",
       "      <td>Apple M1</td>\n",
       "      <td>16</td>\n",
       "      <td>42990000</td>\n",
       "      <td>37500000</td>\n",
       "      <td>https://cellphones.com.vn/macbook-pro-2020-13-...</td>\n",
       "      <td>CellphoneS</td>\n",
       "      <td>0</td>\n",
       "      <td>256</td>\n",
       "      <td>0</td>\n",
       "    </tr>\n",
       "    <tr>\n",
       "      <th>3</th>\n",
       "      <td>4</td>\n",
       "      <td>Asus</td>\n",
       "      <td>Laptop Asus Zenbook UX482EA KA397W</td>\n",
       "      <td>14.0</td>\n",
       "      <td>Intel Core i5</td>\n",
       "      <td>8</td>\n",
       "      <td>32990000</td>\n",
       "      <td>29990000</td>\n",
       "      <td>https://cellphones.com.vn/laptop-asus-zenbook-...</td>\n",
       "      <td>CellphoneS</td>\n",
       "      <td>0</td>\n",
       "      <td>512</td>\n",
       "      <td>0</td>\n",
       "    </tr>\n",
       "    <tr>\n",
       "      <th>4</th>\n",
       "      <td>5</td>\n",
       "      <td>MSI</td>\n",
       "      <td>Laptop MSI Modern 15 A5M 238VN</td>\n",
       "      <td>15.6</td>\n",
       "      <td>AMD Ryzen 5</td>\n",
       "      <td>8</td>\n",
       "      <td>18990000</td>\n",
       "      <td>15990000</td>\n",
       "      <td>https://cellphones.com.vn/laptop-msi-modern-15...</td>\n",
       "      <td>CellphoneS</td>\n",
       "      <td>0</td>\n",
       "      <td>512</td>\n",
       "      <td>0</td>\n",
       "    </tr>\n",
       "  </tbody>\n",
       "</table>\n",
       "</div>"
      ],
      "text/plain": [
       "   ID  Brand                                               Name  ScreenSize  \\\n",
       "0   1     HP                    HP Pavilion 15 EG0507TU 46M06PA        15.6   \n",
       "1   2    MSI                            MSI Modern 14 B5M 204VN        14.0   \n",
       "2   3  Apple  Apple MacBook Pro 13 Touch Bar M1 16GB 256GB 2...        13.3   \n",
       "3   4   Asus                 Laptop Asus Zenbook UX482EA KA397W        14.0   \n",
       "4   5    MSI                     Laptop MSI Modern 15 A5M 238VN        15.6   \n",
       "\n",
       "             CPU  RAM  DefaultPrice  SalePrice  \\\n",
       "0  Intel Core i5    8      17990000   17190000   \n",
       "1    AMD Ryzen 5    8      17990000   14990000   \n",
       "2       Apple M1   16      42990000   37500000   \n",
       "3  Intel Core i5    8      32990000   29990000   \n",
       "4    AMD Ryzen 5    8      18990000   15990000   \n",
       "\n",
       "                                                Link     Website  HDD  SSD  \\\n",
       "0  https://cellphones.com.vn/laptop-hp-pavilion-1...  CellphoneS    0  256   \n",
       "1  https://cellphones.com.vn/laptop-msi-modern-14...  CellphoneS    0  512   \n",
       "2  https://cellphones.com.vn/macbook-pro-2020-13-...  CellphoneS    0  256   \n",
       "3  https://cellphones.com.vn/laptop-asus-zenbook-...  CellphoneS    0  512   \n",
       "4  https://cellphones.com.vn/laptop-msi-modern-15...  CellphoneS    0  512   \n",
       "\n",
       "   eMMC  \n",
       "0     0  \n",
       "1     0  \n",
       "2     0  \n",
       "3     0  \n",
       "4     0  "
      ]
     },
     "execution_count": 128,
     "metadata": {},
     "output_type": "execute_result"
    }
   ],
   "source": [
    "df.head()"
   ]
  },
  {
   "cell_type": "code",
   "execution_count": 129,
   "id": "ec07dc09",
   "metadata": {
    "colab": {
     "base_uri": "https://localhost:8080/"
    },
    "executionInfo": {
     "elapsed": 25,
     "status": "ok",
     "timestamp": 1655044293970,
     "user": {
      "displayName": "Nhóm 7 DS103.M21",
      "userId": "12706573684156505343"
     },
     "user_tz": -420
    },
    "id": "ec07dc09",
    "outputId": "9b84436f-8b68-498b-d8b7-f86d8028913e"
   },
   "outputs": [
    {
     "data": {
      "text/plain": [
       "0       2012\n",
       "1000      59\n",
       "512        7\n",
       "256        3\n",
       "320        3\n",
       "160        1\n",
       "128        1\n",
       "Name: HDD, dtype: int64"
      ]
     },
     "execution_count": 129,
     "metadata": {},
     "output_type": "execute_result"
    }
   ],
   "source": [
    "df[\"HDD\"].value_counts()"
   ]
  },
  {
   "cell_type": "code",
   "execution_count": 130,
   "id": "dd46c036",
   "metadata": {
    "colab": {
     "base_uri": "https://localhost:8080/"
    },
    "executionInfo": {
     "elapsed": 23,
     "status": "ok",
     "timestamp": 1655044293970,
     "user": {
      "displayName": "Nhóm 7 DS103.M21",
      "userId": "12706573684156505343"
     },
     "user_tz": -420
    },
    "id": "dd46c036",
    "outputId": "d431cf4c-61c8-4c17-af19-a60bc5f6037e",
    "scrolled": true
   },
   "outputs": [
    {
     "data": {
      "text/plain": [
       "512     1239\n",
       "256      550\n",
       "128      104\n",
       "1000      97\n",
       "0         81\n",
       "2000      11\n",
       "64         1\n",
       "8000       1\n",
       "4000       1\n",
       "480        1\n",
       "Name: SSD, dtype: int64"
      ]
     },
     "execution_count": 130,
     "metadata": {},
     "output_type": "execute_result"
    }
   ],
   "source": [
    "df[\"SSD\"].value_counts()"
   ]
  },
  {
   "cell_type": "code",
   "execution_count": 131,
   "id": "3a73ec6b",
   "metadata": {
    "colab": {
     "base_uri": "https://localhost:8080/"
    },
    "executionInfo": {
     "elapsed": 22,
     "status": "ok",
     "timestamp": 1655044293970,
     "user": {
      "displayName": "Nhóm 7 DS103.M21",
      "userId": "12706573684156505343"
     },
     "user_tz": -420
    },
    "id": "3a73ec6b",
    "outputId": "7a9fdd33-ce24-4a76-e4e9-15637d525f6f"
   },
   "outputs": [
    {
     "data": {
      "text/plain": [
       "0      2071\n",
       "128      10\n",
       "64        5\n",
       "Name: eMMC, dtype: int64"
      ]
     },
     "execution_count": 131,
     "metadata": {},
     "output_type": "execute_result"
    }
   ],
   "source": [
    "df[\"eMMC\"].value_counts()"
   ]
  },
  {
   "cell_type": "code",
   "execution_count": 132,
   "id": "a9dc1ab3",
   "metadata": {
    "colab": {
     "base_uri": "https://localhost:8080/"
    },
    "executionInfo": {
     "elapsed": 22,
     "status": "ok",
     "timestamp": 1655044293971,
     "user": {
      "displayName": "Nhóm 7 DS103.M21",
      "userId": "12706573684156505343"
     },
     "user_tz": -420
    },
    "id": "a9dc1ab3",
    "outputId": "1ef3816b-8bad-4a01-a5c3-a655fdb79d1f"
   },
   "outputs": [
    {
     "name": "stdout",
     "output_type": "stream",
     "text": [
      "<class 'pandas.core.frame.DataFrame'>\n",
      "RangeIndex: 2086 entries, 0 to 2085\n",
      "Data columns (total 13 columns):\n",
      " #   Column        Non-Null Count  Dtype  \n",
      "---  ------        --------------  -----  \n",
      " 0   ID            2086 non-null   int64  \n",
      " 1   Brand         2086 non-null   object \n",
      " 2   Name          2086 non-null   object \n",
      " 3   ScreenSize    2086 non-null   float64\n",
      " 4   CPU           2086 non-null   object \n",
      " 5   RAM           2086 non-null   int32  \n",
      " 6   DefaultPrice  2086 non-null   int64  \n",
      " 7   SalePrice     2086 non-null   int64  \n",
      " 8   Link          2086 non-null   object \n",
      " 9   Website       2086 non-null   object \n",
      " 10  HDD           2086 non-null   int64  \n",
      " 11  SSD           2086 non-null   int64  \n",
      " 12  eMMC          2086 non-null   int64  \n",
      "dtypes: float64(1), int32(1), int64(6), object(5)\n",
      "memory usage: 203.8+ KB\n"
     ]
    }
   ],
   "source": [
    "df.info()"
   ]
  },
  {
   "cell_type": "markdown",
   "id": "3c2c9c88",
   "metadata": {
    "id": "3c2c9c88"
   },
   "source": [
    "#### Di chuyển thuộc tính Link và Webside ra phía sau"
   ]
  },
  {
   "cell_type": "code",
   "execution_count": 133,
   "id": "a68b6008",
   "metadata": {
    "executionInfo": {
     "elapsed": 21,
     "status": "ok",
     "timestamp": 1655044293971,
     "user": {
      "displayName": "Nhóm 7 DS103.M21",
      "userId": "12706573684156505343"
     },
     "user_tz": -420
    },
    "id": "a68b6008"
   },
   "outputs": [],
   "source": [
    "temp1 = df[\"Link\"]\n",
    "temp2 =df[\"Website\"]"
   ]
  },
  {
   "cell_type": "code",
   "execution_count": 134,
   "id": "5ae0b4c5",
   "metadata": {
    "executionInfo": {
     "elapsed": 22,
     "status": "ok",
     "timestamp": 1655044293972,
     "user": {
      "displayName": "Nhóm 7 DS103.M21",
      "userId": "12706573684156505343"
     },
     "user_tz": -420
    },
    "id": "5ae0b4c5"
   },
   "outputs": [],
   "source": [
    "df.drop(columns=['Link'],inplace=True)\n",
    "df.drop(columns=['Website'],inplace=True)"
   ]
  },
  {
   "cell_type": "code",
   "execution_count": 135,
   "id": "1794682a",
   "metadata": {
    "executionInfo": {
     "elapsed": 22,
     "status": "ok",
     "timestamp": 1655044293973,
     "user": {
      "displayName": "Nhóm 7 DS103.M21",
      "userId": "12706573684156505343"
     },
     "user_tz": -420
    },
    "id": "1794682a"
   },
   "outputs": [],
   "source": [
    "df[\"Link\"] = temp1\n",
    "df[\"Website\"] = temp2"
   ]
  },
  {
   "cell_type": "code",
   "execution_count": 136,
   "id": "bb7df6a2",
   "metadata": {
    "colab": {
     "base_uri": "https://localhost:8080/",
     "height": 0
    },
    "executionInfo": {
     "elapsed": 23,
     "status": "ok",
     "timestamp": 1655044293974,
     "user": {
      "displayName": "Nhóm 7 DS103.M21",
      "userId": "12706573684156505343"
     },
     "user_tz": -420
    },
    "id": "bb7df6a2",
    "outputId": "db1d4651-532f-4d0a-b138-74eb289ccf7c"
   },
   "outputs": [
    {
     "data": {
      "text/html": [
       "<div>\n",
       "<style scoped>\n",
       "    .dataframe tbody tr th:only-of-type {\n",
       "        vertical-align: middle;\n",
       "    }\n",
       "\n",
       "    .dataframe tbody tr th {\n",
       "        vertical-align: top;\n",
       "    }\n",
       "\n",
       "    .dataframe thead th {\n",
       "        text-align: right;\n",
       "    }\n",
       "</style>\n",
       "<table border=\"1\" class=\"dataframe\">\n",
       "  <thead>\n",
       "    <tr style=\"text-align: right;\">\n",
       "      <th></th>\n",
       "      <th>ID</th>\n",
       "      <th>Brand</th>\n",
       "      <th>Name</th>\n",
       "      <th>ScreenSize</th>\n",
       "      <th>CPU</th>\n",
       "      <th>RAM</th>\n",
       "      <th>DefaultPrice</th>\n",
       "      <th>SalePrice</th>\n",
       "      <th>HDD</th>\n",
       "      <th>SSD</th>\n",
       "      <th>eMMC</th>\n",
       "      <th>Link</th>\n",
       "      <th>Website</th>\n",
       "    </tr>\n",
       "  </thead>\n",
       "  <tbody>\n",
       "    <tr>\n",
       "      <th>0</th>\n",
       "      <td>1</td>\n",
       "      <td>HP</td>\n",
       "      <td>HP Pavilion 15 EG0507TU 46M06PA</td>\n",
       "      <td>15.6</td>\n",
       "      <td>Intel Core i5</td>\n",
       "      <td>8</td>\n",
       "      <td>17990000</td>\n",
       "      <td>17190000</td>\n",
       "      <td>0</td>\n",
       "      <td>256</td>\n",
       "      <td>0</td>\n",
       "      <td>https://cellphones.com.vn/laptop-hp-pavilion-1...</td>\n",
       "      <td>CellphoneS</td>\n",
       "    </tr>\n",
       "    <tr>\n",
       "      <th>1</th>\n",
       "      <td>2</td>\n",
       "      <td>MSI</td>\n",
       "      <td>MSI Modern 14 B5M 204VN</td>\n",
       "      <td>14.0</td>\n",
       "      <td>AMD Ryzen 5</td>\n",
       "      <td>8</td>\n",
       "      <td>17990000</td>\n",
       "      <td>14990000</td>\n",
       "      <td>0</td>\n",
       "      <td>512</td>\n",
       "      <td>0</td>\n",
       "      <td>https://cellphones.com.vn/laptop-msi-modern-14...</td>\n",
       "      <td>CellphoneS</td>\n",
       "    </tr>\n",
       "    <tr>\n",
       "      <th>2</th>\n",
       "      <td>3</td>\n",
       "      <td>Apple</td>\n",
       "      <td>Apple MacBook Pro 13 Touch Bar M1 16GB 256GB 2...</td>\n",
       "      <td>13.3</td>\n",
       "      <td>Apple M1</td>\n",
       "      <td>16</td>\n",
       "      <td>42990000</td>\n",
       "      <td>37500000</td>\n",
       "      <td>0</td>\n",
       "      <td>256</td>\n",
       "      <td>0</td>\n",
       "      <td>https://cellphones.com.vn/macbook-pro-2020-13-...</td>\n",
       "      <td>CellphoneS</td>\n",
       "    </tr>\n",
       "    <tr>\n",
       "      <th>3</th>\n",
       "      <td>4</td>\n",
       "      <td>Asus</td>\n",
       "      <td>Laptop Asus Zenbook UX482EA KA397W</td>\n",
       "      <td>14.0</td>\n",
       "      <td>Intel Core i5</td>\n",
       "      <td>8</td>\n",
       "      <td>32990000</td>\n",
       "      <td>29990000</td>\n",
       "      <td>0</td>\n",
       "      <td>512</td>\n",
       "      <td>0</td>\n",
       "      <td>https://cellphones.com.vn/laptop-asus-zenbook-...</td>\n",
       "      <td>CellphoneS</td>\n",
       "    </tr>\n",
       "    <tr>\n",
       "      <th>4</th>\n",
       "      <td>5</td>\n",
       "      <td>MSI</td>\n",
       "      <td>Laptop MSI Modern 15 A5M 238VN</td>\n",
       "      <td>15.6</td>\n",
       "      <td>AMD Ryzen 5</td>\n",
       "      <td>8</td>\n",
       "      <td>18990000</td>\n",
       "      <td>15990000</td>\n",
       "      <td>0</td>\n",
       "      <td>512</td>\n",
       "      <td>0</td>\n",
       "      <td>https://cellphones.com.vn/laptop-msi-modern-15...</td>\n",
       "      <td>CellphoneS</td>\n",
       "    </tr>\n",
       "  </tbody>\n",
       "</table>\n",
       "</div>"
      ],
      "text/plain": [
       "   ID  Brand                                               Name  ScreenSize  \\\n",
       "0   1     HP                    HP Pavilion 15 EG0507TU 46M06PA        15.6   \n",
       "1   2    MSI                            MSI Modern 14 B5M 204VN        14.0   \n",
       "2   3  Apple  Apple MacBook Pro 13 Touch Bar M1 16GB 256GB 2...        13.3   \n",
       "3   4   Asus                 Laptop Asus Zenbook UX482EA KA397W        14.0   \n",
       "4   5    MSI                     Laptop MSI Modern 15 A5M 238VN        15.6   \n",
       "\n",
       "             CPU  RAM  DefaultPrice  SalePrice  HDD  SSD  eMMC  \\\n",
       "0  Intel Core i5    8      17990000   17190000    0  256     0   \n",
       "1    AMD Ryzen 5    8      17990000   14990000    0  512     0   \n",
       "2       Apple M1   16      42990000   37500000    0  256     0   \n",
       "3  Intel Core i5    8      32990000   29990000    0  512     0   \n",
       "4    AMD Ryzen 5    8      18990000   15990000    0  512     0   \n",
       "\n",
       "                                                Link     Website  \n",
       "0  https://cellphones.com.vn/laptop-hp-pavilion-1...  CellphoneS  \n",
       "1  https://cellphones.com.vn/laptop-msi-modern-14...  CellphoneS  \n",
       "2  https://cellphones.com.vn/macbook-pro-2020-13-...  CellphoneS  \n",
       "3  https://cellphones.com.vn/laptop-asus-zenbook-...  CellphoneS  \n",
       "4  https://cellphones.com.vn/laptop-msi-modern-15...  CellphoneS  "
      ]
     },
     "execution_count": 136,
     "metadata": {},
     "output_type": "execute_result"
    }
   ],
   "source": [
    "df.head()"
   ]
  },
  {
   "cell_type": "markdown",
   "id": "8f0d348f",
   "metadata": {
    "id": "8f0d348f"
   },
   "source": [
    "#### Confunsion matrix"
   ]
  },
  {
   "cell_type": "code",
   "execution_count": 137,
   "id": "4fd0d45f",
   "metadata": {
    "colab": {
     "base_uri": "https://localhost:8080/"
    },
    "executionInfo": {
     "elapsed": 22,
     "status": "ok",
     "timestamp": 1655044293974,
     "user": {
      "displayName": "Nhóm 7 DS103.M21",
      "userId": "12706573684156505343"
     },
     "user_tz": -420
    },
    "id": "4fd0d45f",
    "outputId": "b88eb990-a93e-4d1e-8b8d-7bde4614b9aa"
   },
   "outputs": [
    {
     "data": {
      "text/plain": [
       "ScreenSize      0.198543\n",
       "RAM             0.822879\n",
       "DefaultPrice    1.000000\n",
       "SalePrice       0.988738\n",
       "HDD            -0.139064\n",
       "SSD             0.652096\n",
       "eMMC           -0.093245\n",
       "Name: DefaultPrice, dtype: float64"
      ]
     },
     "execution_count": 137,
     "metadata": {},
     "output_type": "execute_result"
    }
   ],
   "source": [
    "df.corr()['DefaultPrice'].drop('ID')"
   ]
  },
  {
   "cell_type": "code",
   "execution_count": 138,
   "id": "0dbd60c0",
   "metadata": {
    "colab": {
     "base_uri": "https://localhost:8080/",
     "height": 338
    },
    "executionInfo": {
     "elapsed": 824,
     "status": "ok",
     "timestamp": 1655044294778,
     "user": {
      "displayName": "Nhóm 7 DS103.M21",
      "userId": "12706573684156505343"
     },
     "user_tz": -420
    },
    "id": "0dbd60c0",
    "outputId": "67428fac-344d-4901-9986-438b4f770aed"
   },
   "outputs": [
    {
     "data": {
      "text/plain": [
       "<AxesSubplot:>"
      ]
     },
     "execution_count": 138,
     "metadata": {},
     "output_type": "execute_result"
    },
    {
     "data": {
      "image/png": "[encoded data removed]",
      "text/plain": [
       "<Figure size 432x288 with 2 Axes>"
      ]
     },
     "metadata": {
      "needs_background": "light"
     },
     "output_type": "display_data"
    }
   ],
   "source": [
    "sns.heatmap(df.corr().drop('ID'), cmap=\"YlGnBu\", annot=True, vmin=0, vmax=1, linewidths=0.4)"
   ]
  },
  {
   "cell_type": "code",
   "execution_count": 139,
   "id": "3093b923",
   "metadata": {
    "colab": {
     "base_uri": "https://localhost:8080/",
     "height": 351
    },
    "executionInfo": {
     "elapsed": 18,
     "status": "ok",
     "timestamp": 1655044294778,
     "user": {
      "displayName": "Nhóm 7 DS103.M21",
      "userId": "12706573684156505343"
     },
     "user_tz": -420
    },
    "id": "3093b923",
    "outputId": "770580d7-92f9-4f02-8782-ec0809c2911f"
   },
   "outputs": [
    {
     "name": "stderr",
     "output_type": "stream",
     "text": [
      "C:\\Users\\ADMIN\\anaconda3\\lib\\site-packages\\seaborn\\distributions.py:2619: FutureWarning: `distplot` is a deprecated function and will be removed in a future version. Please adapt your code to use either `displot` (a figure-level function with similar flexibility) or `histplot` (an axes-level function for histograms).\n",
      "  warnings.warn(msg, FutureWarning)\n"
     ]
    },
    {
     "data": {
      "text/plain": [
       "<AxesSubplot:xlabel='DefaultPrice', ylabel='Density'>"
      ]
     },
     "execution_count": 139,
     "metadata": {},
     "output_type": "execute_result"
    },
    {
     "data": {
      "image/png": "[encoded data removed]",
      "text/plain": [
       "<Figure size 432x288 with 1 Axes>"
      ]
     },
     "metadata": {
      "needs_background": "light"
     },
     "output_type": "display_data"
    }
   ],
   "source": [
    "sns.distplot(np.log(df['DefaultPrice']))"
   ]
  },
  {
   "cell_type": "markdown",
   "id": "Qxgpcc-uT0a5",
   "metadata": {
    "id": "Qxgpcc-uT0a5"
   },
   "source": [
    "# Lưu tidy data"
   ]
  },
  {
   "cell_type": "code",
   "execution_count": 140,
   "id": "0c56bc31",
   "metadata": {
    "executionInfo": {
     "elapsed": 14,
     "status": "ok",
     "timestamp": 1655044294779,
     "user": {
      "displayName": "Nhóm 7 DS103.M21",
      "userId": "12706573684156505343"
     },
     "user_tz": -420
    },
    "id": "0c56bc31",
    "scrolled": true
   },
   "outputs": [],
   "source": [
    "df.to_csv('D:/Project/demo/tidy_data.csv', index = False)"
   ]
  },
  {
   "cell_type": "markdown",
   "id": "9a44b888",
   "metadata": {},
   "source": [
    "import os\n",
    "os.system(f\"attrib -h D:/Project/demo/tidy_data.csv\")\n",
    "file_ = open('D:/Project/demo/tidy_data.csv', \"wb\")"
   ]
  },
  {
   "cell_type": "markdown",
   "id": "9616a881",
   "metadata": {
    "id": "9616a881"
   },
   "source": [
    "# Vector hóa"
   ]
  },
  {
   "cell_type": "code",
   "execution_count": 141,
   "id": "ac6e3edc",
   "metadata": {
    "colab": {
     "base_uri": "https://localhost:8080/",
     "height": 485
    },
    "executionInfo": {
     "elapsed": 14,
     "status": "ok",
     "timestamp": 1655044294780,
     "user": {
      "displayName": "Nhóm 7 DS103.M21",
      "userId": "12706573684156505343"
     },
     "user_tz": -420
    },
    "id": "ac6e3edc",
    "outputId": "02eca879-77fd-43d9-f12f-c2be4d06a8a2"
   },
   "outputs": [
    {
     "data": {
      "text/html": [
       "<div>\n",
       "<style scoped>\n",
       "    .dataframe tbody tr th:only-of-type {\n",
       "        vertical-align: middle;\n",
       "    }\n",
       "\n",
       "    .dataframe tbody tr th {\n",
       "        vertical-align: top;\n",
       "    }\n",
       "\n",
       "    .dataframe thead th {\n",
       "        text-align: right;\n",
       "    }\n",
       "</style>\n",
       "<table border=\"1\" class=\"dataframe\">\n",
       "  <thead>\n",
       "    <tr style=\"text-align: right;\">\n",
       "      <th></th>\n",
       "      <th>AMD Ryzen 3</th>\n",
       "      <th>AMD Ryzen 5</th>\n",
       "      <th>AMD Ryzen 7</th>\n",
       "      <th>AMD Ryzen 9</th>\n",
       "      <th>Apple M1</th>\n",
       "      <th>Apple M1 Max</th>\n",
       "      <th>Apple M1 Pro</th>\n",
       "      <th>Intel Celeron</th>\n",
       "      <th>Intel Core 2 Duo</th>\n",
       "      <th>Intel Core i3</th>\n",
       "      <th>Intel Core i5</th>\n",
       "      <th>Intel Core i7</th>\n",
       "      <th>Intel Core i8</th>\n",
       "      <th>Intel Core i9</th>\n",
       "      <th>Intel Core m3</th>\n",
       "      <th>Intel Pentium</th>\n",
       "    </tr>\n",
       "  </thead>\n",
       "  <tbody>\n",
       "    <tr>\n",
       "      <th>0</th>\n",
       "      <td>0</td>\n",
       "      <td>0</td>\n",
       "      <td>0</td>\n",
       "      <td>0</td>\n",
       "      <td>0</td>\n",
       "      <td>0</td>\n",
       "      <td>0</td>\n",
       "      <td>0</td>\n",
       "      <td>0</td>\n",
       "      <td>0</td>\n",
       "      <td>1</td>\n",
       "      <td>0</td>\n",
       "      <td>0</td>\n",
       "      <td>0</td>\n",
       "      <td>0</td>\n",
       "      <td>0</td>\n",
       "    </tr>\n",
       "    <tr>\n",
       "      <th>1</th>\n",
       "      <td>0</td>\n",
       "      <td>1</td>\n",
       "      <td>0</td>\n",
       "      <td>0</td>\n",
       "      <td>0</td>\n",
       "      <td>0</td>\n",
       "      <td>0</td>\n",
       "      <td>0</td>\n",
       "      <td>0</td>\n",
       "      <td>0</td>\n",
       "      <td>0</td>\n",
       "      <td>0</td>\n",
       "      <td>0</td>\n",
       "      <td>0</td>\n",
       "      <td>0</td>\n",
       "      <td>0</td>\n",
       "    </tr>\n",
       "    <tr>\n",
       "      <th>2</th>\n",
       "      <td>0</td>\n",
       "      <td>0</td>\n",
       "      <td>0</td>\n",
       "      <td>0</td>\n",
       "      <td>1</td>\n",
       "      <td>0</td>\n",
       "      <td>0</td>\n",
       "      <td>0</td>\n",
       "      <td>0</td>\n",
       "      <td>0</td>\n",
       "      <td>0</td>\n",
       "      <td>0</td>\n",
       "      <td>0</td>\n",
       "      <td>0</td>\n",
       "      <td>0</td>\n",
       "      <td>0</td>\n",
       "    </tr>\n",
       "    <tr>\n",
       "      <th>3</th>\n",
       "      <td>0</td>\n",
       "      <td>0</td>\n",
       "      <td>0</td>\n",
       "      <td>0</td>\n",
       "      <td>0</td>\n",
       "      <td>0</td>\n",
       "      <td>0</td>\n",
       "      <td>0</td>\n",
       "      <td>0</td>\n",
       "      <td>0</td>\n",
       "      <td>1</td>\n",
       "      <td>0</td>\n",
       "      <td>0</td>\n",
       "      <td>0</td>\n",
       "      <td>0</td>\n",
       "      <td>0</td>\n",
       "    </tr>\n",
       "    <tr>\n",
       "      <th>4</th>\n",
       "      <td>0</td>\n",
       "      <td>1</td>\n",
       "      <td>0</td>\n",
       "      <td>0</td>\n",
       "      <td>0</td>\n",
       "      <td>0</td>\n",
       "      <td>0</td>\n",
       "      <td>0</td>\n",
       "      <td>0</td>\n",
       "      <td>0</td>\n",
       "      <td>0</td>\n",
       "      <td>0</td>\n",
       "      <td>0</td>\n",
       "      <td>0</td>\n",
       "      <td>0</td>\n",
       "      <td>0</td>\n",
       "    </tr>\n",
       "    <tr>\n",
       "      <th>...</th>\n",
       "      <td>...</td>\n",
       "      <td>...</td>\n",
       "      <td>...</td>\n",
       "      <td>...</td>\n",
       "      <td>...</td>\n",
       "      <td>...</td>\n",
       "      <td>...</td>\n",
       "      <td>...</td>\n",
       "      <td>...</td>\n",
       "      <td>...</td>\n",
       "      <td>...</td>\n",
       "      <td>...</td>\n",
       "      <td>...</td>\n",
       "      <td>...</td>\n",
       "      <td>...</td>\n",
       "      <td>...</td>\n",
       "    </tr>\n",
       "    <tr>\n",
       "      <th>2081</th>\n",
       "      <td>0</td>\n",
       "      <td>0</td>\n",
       "      <td>0</td>\n",
       "      <td>0</td>\n",
       "      <td>0</td>\n",
       "      <td>0</td>\n",
       "      <td>0</td>\n",
       "      <td>0</td>\n",
       "      <td>0</td>\n",
       "      <td>0</td>\n",
       "      <td>0</td>\n",
       "      <td>1</td>\n",
       "      <td>0</td>\n",
       "      <td>0</td>\n",
       "      <td>0</td>\n",
       "      <td>0</td>\n",
       "    </tr>\n",
       "    <tr>\n",
       "      <th>2082</th>\n",
       "      <td>0</td>\n",
       "      <td>0</td>\n",
       "      <td>0</td>\n",
       "      <td>0</td>\n",
       "      <td>0</td>\n",
       "      <td>0</td>\n",
       "      <td>0</td>\n",
       "      <td>0</td>\n",
       "      <td>0</td>\n",
       "      <td>0</td>\n",
       "      <td>1</td>\n",
       "      <td>0</td>\n",
       "      <td>0</td>\n",
       "      <td>0</td>\n",
       "      <td>0</td>\n",
       "      <td>0</td>\n",
       "    </tr>\n",
       "    <tr>\n",
       "      <th>2083</th>\n",
       "      <td>0</td>\n",
       "      <td>0</td>\n",
       "      <td>0</td>\n",
       "      <td>0</td>\n",
       "      <td>0</td>\n",
       "      <td>0</td>\n",
       "      <td>0</td>\n",
       "      <td>0</td>\n",
       "      <td>0</td>\n",
       "      <td>0</td>\n",
       "      <td>0</td>\n",
       "      <td>1</td>\n",
       "      <td>0</td>\n",
       "      <td>0</td>\n",
       "      <td>0</td>\n",
       "      <td>0</td>\n",
       "    </tr>\n",
       "    <tr>\n",
       "      <th>2084</th>\n",
       "      <td>0</td>\n",
       "      <td>0</td>\n",
       "      <td>1</td>\n",
       "      <td>0</td>\n",
       "      <td>0</td>\n",
       "      <td>0</td>\n",
       "      <td>0</td>\n",
       "      <td>0</td>\n",
       "      <td>0</td>\n",
       "      <td>0</td>\n",
       "      <td>0</td>\n",
       "      <td>0</td>\n",
       "      <td>0</td>\n",
       "      <td>0</td>\n",
       "      <td>0</td>\n",
       "      <td>0</td>\n",
       "    </tr>\n",
       "    <tr>\n",
       "      <th>2085</th>\n",
       "      <td>0</td>\n",
       "      <td>0</td>\n",
       "      <td>0</td>\n",
       "      <td>0</td>\n",
       "      <td>0</td>\n",
       "      <td>0</td>\n",
       "      <td>0</td>\n",
       "      <td>0</td>\n",
       "      <td>0</td>\n",
       "      <td>0</td>\n",
       "      <td>1</td>\n",
       "      <td>0</td>\n",
       "      <td>0</td>\n",
       "      <td>0</td>\n",
       "      <td>0</td>\n",
       "      <td>0</td>\n",
       "    </tr>\n",
       "  </tbody>\n",
       "</table>\n",
       "<p>2086 rows × 16 columns</p>\n",
       "</div>"
      ],
      "text/plain": [
       "      AMD Ryzen 3  AMD Ryzen 5  AMD Ryzen 7  AMD Ryzen 9  Apple M1  \\\n",
       "0               0            0            0            0         0   \n",
       "1               0            1            0            0         0   \n",
       "2               0            0            0            0         1   \n",
       "3               0            0            0            0         0   \n",
       "4               0            1            0            0         0   \n",
       "...           ...          ...          ...          ...       ...   \n",
       "2081            0            0            0            0         0   \n",
       "2082            0            0            0            0         0   \n",
       "2083            0            0            0            0         0   \n",
       "2084            0            0            1            0         0   \n",
       "2085            0            0            0            0         0   \n",
       "\n",
       "      Apple M1 Max  Apple M1 Pro  Intel Celeron  Intel Core 2 Duo  \\\n",
       "0                0             0              0                 0   \n",
       "1                0             0              0                 0   \n",
       "2                0             0              0                 0   \n",
       "3                0             0              0                 0   \n",
       "4                0             0              0                 0   \n",
       "...            ...           ...            ...               ...   \n",
       "2081             0             0              0                 0   \n",
       "2082             0             0              0                 0   \n",
       "2083             0             0              0                 0   \n",
       "2084             0             0              0                 0   \n",
       "2085             0             0              0                 0   \n",
       "\n",
       "      Intel Core i3  Intel Core i5  Intel Core i7  Intel Core i8  \\\n",
       "0                 0              1              0              0   \n",
       "1                 0              0              0              0   \n",
       "2                 0              0              0              0   \n",
       "3                 0              1              0              0   \n",
       "4                 0              0              0              0   \n",
       "...             ...            ...            ...            ...   \n",
       "2081              0              0              1              0   \n",
       "2082              0              1              0              0   \n",
       "2083              0              0              1              0   \n",
       "2084              0              0              0              0   \n",
       "2085              0              1              0              0   \n",
       "\n",
       "      Intel Core i9  Intel Core m3  Intel Pentium  \n",
       "0                 0              0              0  \n",
       "1                 0              0              0  \n",
       "2                 0              0              0  \n",
       "3                 0              0              0  \n",
       "4                 0              0              0  \n",
       "...             ...            ...            ...  \n",
       "2081              0              0              0  \n",
       "2082              0              0              0  \n",
       "2083              0              0              0  \n",
       "2084              0              0              0  \n",
       "2085              0              0              0  \n",
       "\n",
       "[2086 rows x 16 columns]"
      ]
     },
     "execution_count": 141,
     "metadata": {},
     "output_type": "execute_result"
    }
   ],
   "source": [
    "vectorzi_CPU = pd.get_dummies(df[\"CPU\"])\n",
    "vectorzi_CPU"
   ]
  },
  {
   "cell_type": "code",
   "execution_count": 142,
   "id": "5e29dd24",
   "metadata": {
    "colab": {
     "base_uri": "https://localhost:8080/",
     "height": 502
    },
    "executionInfo": {
     "elapsed": 13,
     "status": "ok",
     "timestamp": 1655044294780,
     "user": {
      "displayName": "Nhóm 7 DS103.M21",
      "userId": "12706573684156505343"
     },
     "user_tz": -420
    },
    "id": "5e29dd24",
    "outputId": "1c707b1a-08ed-49ac-d19e-d9338c59d2ff"
   },
   "outputs": [
    {
     "data": {
      "text/html": [
       "<div>\n",
       "<style scoped>\n",
       "    .dataframe tbody tr th:only-of-type {\n",
       "        vertical-align: middle;\n",
       "    }\n",
       "\n",
       "    .dataframe tbody tr th {\n",
       "        vertical-align: top;\n",
       "    }\n",
       "\n",
       "    .dataframe thead th {\n",
       "        text-align: right;\n",
       "    }\n",
       "</style>\n",
       "<table border=\"1\" class=\"dataframe\">\n",
       "  <thead>\n",
       "    <tr style=\"text-align: right;\">\n",
       "      <th></th>\n",
       "      <th>ScreenSize</th>\n",
       "      <th>AMD Ryzen 3</th>\n",
       "      <th>AMD Ryzen 5</th>\n",
       "      <th>AMD Ryzen 7</th>\n",
       "      <th>AMD Ryzen 9</th>\n",
       "      <th>Apple M1</th>\n",
       "      <th>Apple M1 Max</th>\n",
       "      <th>Apple M1 Pro</th>\n",
       "      <th>Intel Celeron</th>\n",
       "      <th>Intel Core 2 Duo</th>\n",
       "      <th>...</th>\n",
       "      <th>Intel Core i5</th>\n",
       "      <th>Intel Core i7</th>\n",
       "      <th>Intel Core i8</th>\n",
       "      <th>Intel Core i9</th>\n",
       "      <th>Intel Core m3</th>\n",
       "      <th>Intel Pentium</th>\n",
       "      <th>RAM</th>\n",
       "      <th>HDD</th>\n",
       "      <th>SSD</th>\n",
       "      <th>eMMC</th>\n",
       "    </tr>\n",
       "  </thead>\n",
       "  <tbody>\n",
       "    <tr>\n",
       "      <th>0</th>\n",
       "      <td>15.6</td>\n",
       "      <td>0</td>\n",
       "      <td>0</td>\n",
       "      <td>0</td>\n",
       "      <td>0</td>\n",
       "      <td>0</td>\n",
       "      <td>0</td>\n",
       "      <td>0</td>\n",
       "      <td>0</td>\n",
       "      <td>0</td>\n",
       "      <td>...</td>\n",
       "      <td>1</td>\n",
       "      <td>0</td>\n",
       "      <td>0</td>\n",
       "      <td>0</td>\n",
       "      <td>0</td>\n",
       "      <td>0</td>\n",
       "      <td>8</td>\n",
       "      <td>0</td>\n",
       "      <td>256</td>\n",
       "      <td>0</td>\n",
       "    </tr>\n",
       "    <tr>\n",
       "      <th>1</th>\n",
       "      <td>14.0</td>\n",
       "      <td>0</td>\n",
       "      <td>1</td>\n",
       "      <td>0</td>\n",
       "      <td>0</td>\n",
       "      <td>0</td>\n",
       "      <td>0</td>\n",
       "      <td>0</td>\n",
       "      <td>0</td>\n",
       "      <td>0</td>\n",
       "      <td>...</td>\n",
       "      <td>0</td>\n",
       "      <td>0</td>\n",
       "      <td>0</td>\n",
       "      <td>0</td>\n",
       "      <td>0</td>\n",
       "      <td>0</td>\n",
       "      <td>8</td>\n",
       "      <td>0</td>\n",
       "      <td>512</td>\n",
       "      <td>0</td>\n",
       "    </tr>\n",
       "    <tr>\n",
       "      <th>2</th>\n",
       "      <td>13.3</td>\n",
       "      <td>0</td>\n",
       "      <td>0</td>\n",
       "      <td>0</td>\n",
       "      <td>0</td>\n",
       "      <td>1</td>\n",
       "      <td>0</td>\n",
       "      <td>0</td>\n",
       "      <td>0</td>\n",
       "      <td>0</td>\n",
       "      <td>...</td>\n",
       "      <td>0</td>\n",
       "      <td>0</td>\n",
       "      <td>0</td>\n",
       "      <td>0</td>\n",
       "      <td>0</td>\n",
       "      <td>0</td>\n",
       "      <td>16</td>\n",
       "      <td>0</td>\n",
       "      <td>256</td>\n",
       "      <td>0</td>\n",
       "    </tr>\n",
       "    <tr>\n",
       "      <th>3</th>\n",
       "      <td>14.0</td>\n",
       "      <td>0</td>\n",
       "      <td>0</td>\n",
       "      <td>0</td>\n",
       "      <td>0</td>\n",
       "      <td>0</td>\n",
       "      <td>0</td>\n",
       "      <td>0</td>\n",
       "      <td>0</td>\n",
       "      <td>0</td>\n",
       "      <td>...</td>\n",
       "      <td>1</td>\n",
       "      <td>0</td>\n",
       "      <td>0</td>\n",
       "      <td>0</td>\n",
       "      <td>0</td>\n",
       "      <td>0</td>\n",
       "      <td>8</td>\n",
       "      <td>0</td>\n",
       "      <td>512</td>\n",
       "      <td>0</td>\n",
       "    </tr>\n",
       "    <tr>\n",
       "      <th>4</th>\n",
       "      <td>15.6</td>\n",
       "      <td>0</td>\n",
       "      <td>1</td>\n",
       "      <td>0</td>\n",
       "      <td>0</td>\n",
       "      <td>0</td>\n",
       "      <td>0</td>\n",
       "      <td>0</td>\n",
       "      <td>0</td>\n",
       "      <td>0</td>\n",
       "      <td>...</td>\n",
       "      <td>0</td>\n",
       "      <td>0</td>\n",
       "      <td>0</td>\n",
       "      <td>0</td>\n",
       "      <td>0</td>\n",
       "      <td>0</td>\n",
       "      <td>8</td>\n",
       "      <td>0</td>\n",
       "      <td>512</td>\n",
       "      <td>0</td>\n",
       "    </tr>\n",
       "    <tr>\n",
       "      <th>...</th>\n",
       "      <td>...</td>\n",
       "      <td>...</td>\n",
       "      <td>...</td>\n",
       "      <td>...</td>\n",
       "      <td>...</td>\n",
       "      <td>...</td>\n",
       "      <td>...</td>\n",
       "      <td>...</td>\n",
       "      <td>...</td>\n",
       "      <td>...</td>\n",
       "      <td>...</td>\n",
       "      <td>...</td>\n",
       "      <td>...</td>\n",
       "      <td>...</td>\n",
       "      <td>...</td>\n",
       "      <td>...</td>\n",
       "      <td>...</td>\n",
       "      <td>...</td>\n",
       "      <td>...</td>\n",
       "      <td>...</td>\n",
       "      <td>...</td>\n",
       "    </tr>\n",
       "    <tr>\n",
       "      <th>2081</th>\n",
       "      <td>14.0</td>\n",
       "      <td>0</td>\n",
       "      <td>0</td>\n",
       "      <td>0</td>\n",
       "      <td>0</td>\n",
       "      <td>0</td>\n",
       "      <td>0</td>\n",
       "      <td>0</td>\n",
       "      <td>0</td>\n",
       "      <td>0</td>\n",
       "      <td>...</td>\n",
       "      <td>0</td>\n",
       "      <td>1</td>\n",
       "      <td>0</td>\n",
       "      <td>0</td>\n",
       "      <td>0</td>\n",
       "      <td>0</td>\n",
       "      <td>8</td>\n",
       "      <td>0</td>\n",
       "      <td>256</td>\n",
       "      <td>0</td>\n",
       "    </tr>\n",
       "    <tr>\n",
       "      <th>2082</th>\n",
       "      <td>13.3</td>\n",
       "      <td>0</td>\n",
       "      <td>0</td>\n",
       "      <td>0</td>\n",
       "      <td>0</td>\n",
       "      <td>0</td>\n",
       "      <td>0</td>\n",
       "      <td>0</td>\n",
       "      <td>0</td>\n",
       "      <td>0</td>\n",
       "      <td>...</td>\n",
       "      <td>1</td>\n",
       "      <td>0</td>\n",
       "      <td>0</td>\n",
       "      <td>0</td>\n",
       "      <td>0</td>\n",
       "      <td>0</td>\n",
       "      <td>8</td>\n",
       "      <td>0</td>\n",
       "      <td>128</td>\n",
       "      <td>0</td>\n",
       "    </tr>\n",
       "    <tr>\n",
       "      <th>2083</th>\n",
       "      <td>15.6</td>\n",
       "      <td>0</td>\n",
       "      <td>0</td>\n",
       "      <td>0</td>\n",
       "      <td>0</td>\n",
       "      <td>0</td>\n",
       "      <td>0</td>\n",
       "      <td>0</td>\n",
       "      <td>0</td>\n",
       "      <td>0</td>\n",
       "      <td>...</td>\n",
       "      <td>0</td>\n",
       "      <td>1</td>\n",
       "      <td>0</td>\n",
       "      <td>0</td>\n",
       "      <td>0</td>\n",
       "      <td>0</td>\n",
       "      <td>32</td>\n",
       "      <td>0</td>\n",
       "      <td>1000</td>\n",
       "      <td>0</td>\n",
       "    </tr>\n",
       "    <tr>\n",
       "      <th>2084</th>\n",
       "      <td>15.6</td>\n",
       "      <td>0</td>\n",
       "      <td>0</td>\n",
       "      <td>1</td>\n",
       "      <td>0</td>\n",
       "      <td>0</td>\n",
       "      <td>0</td>\n",
       "      <td>0</td>\n",
       "      <td>0</td>\n",
       "      <td>0</td>\n",
       "      <td>...</td>\n",
       "      <td>0</td>\n",
       "      <td>0</td>\n",
       "      <td>0</td>\n",
       "      <td>0</td>\n",
       "      <td>0</td>\n",
       "      <td>0</td>\n",
       "      <td>16</td>\n",
       "      <td>0</td>\n",
       "      <td>512</td>\n",
       "      <td>0</td>\n",
       "    </tr>\n",
       "    <tr>\n",
       "      <th>2085</th>\n",
       "      <td>14.0</td>\n",
       "      <td>0</td>\n",
       "      <td>0</td>\n",
       "      <td>0</td>\n",
       "      <td>0</td>\n",
       "      <td>0</td>\n",
       "      <td>0</td>\n",
       "      <td>0</td>\n",
       "      <td>0</td>\n",
       "      <td>0</td>\n",
       "      <td>...</td>\n",
       "      <td>1</td>\n",
       "      <td>0</td>\n",
       "      <td>0</td>\n",
       "      <td>0</td>\n",
       "      <td>0</td>\n",
       "      <td>0</td>\n",
       "      <td>8</td>\n",
       "      <td>0</td>\n",
       "      <td>512</td>\n",
       "      <td>0</td>\n",
       "    </tr>\n",
       "  </tbody>\n",
       "</table>\n",
       "<p>2086 rows × 21 columns</p>\n",
       "</div>"
      ],
      "text/plain": [
       "      ScreenSize  AMD Ryzen 3  AMD Ryzen 5  AMD Ryzen 7  AMD Ryzen 9  \\\n",
       "0           15.6            0            0            0            0   \n",
       "1           14.0            0            1            0            0   \n",
       "2           13.3            0            0            0            0   \n",
       "3           14.0            0            0            0            0   \n",
       "4           15.6            0            1            0            0   \n",
       "...          ...          ...          ...          ...          ...   \n",
       "2081        14.0            0            0            0            0   \n",
       "2082        13.3            0            0            0            0   \n",
       "2083        15.6            0            0            0            0   \n",
       "2084        15.6            0            0            1            0   \n",
       "2085        14.0            0            0            0            0   \n",
       "\n",
       "      Apple M1  Apple M1 Max  Apple M1 Pro  Intel Celeron  Intel Core 2 Duo  \\\n",
       "0            0             0             0              0                 0   \n",
       "1            0             0             0              0                 0   \n",
       "2            1             0             0              0                 0   \n",
       "3            0             0             0              0                 0   \n",
       "4            0             0             0              0                 0   \n",
       "...        ...           ...           ...            ...               ...   \n",
       "2081         0             0             0              0                 0   \n",
       "2082         0             0             0              0                 0   \n",
       "2083         0             0             0              0                 0   \n",
       "2084         0             0             0              0                 0   \n",
       "2085         0             0             0              0                 0   \n",
       "\n",
       "      ...  Intel Core i5  Intel Core i7  Intel Core i8  Intel Core i9  \\\n",
       "0     ...              1              0              0              0   \n",
       "1     ...              0              0              0              0   \n",
       "2     ...              0              0              0              0   \n",
       "3     ...              1              0              0              0   \n",
       "4     ...              0              0              0              0   \n",
       "...   ...            ...            ...            ...            ...   \n",
       "2081  ...              0              1              0              0   \n",
       "2082  ...              1              0              0              0   \n",
       "2083  ...              0              1              0              0   \n",
       "2084  ...              0              0              0              0   \n",
       "2085  ...              1              0              0              0   \n",
       "\n",
       "      Intel Core m3  Intel Pentium  RAM  HDD   SSD  eMMC  \n",
       "0                 0              0    8    0   256     0  \n",
       "1                 0              0    8    0   512     0  \n",
       "2                 0              0   16    0   256     0  \n",
       "3                 0              0    8    0   512     0  \n",
       "4                 0              0    8    0   512     0  \n",
       "...             ...            ...  ...  ...   ...   ...  \n",
       "2081              0              0    8    0   256     0  \n",
       "2082              0              0    8    0   128     0  \n",
       "2083              0              0   32    0  1000     0  \n",
       "2084              0              0   16    0   512     0  \n",
       "2085              0              0    8    0   512     0  \n",
       "\n",
       "[2086 rows x 21 columns]"
      ]
     },
     "execution_count": 142,
     "metadata": {},
     "output_type": "execute_result"
    }
   ],
   "source": [
    "features = pd.concat([df[\"ScreenSize\"], vectorzi_CPU, df[\"RAM\"], df[\"HDD\"], df[\"SSD\"], df[\"eMMC\"]], axis=1)\n",
    "features"
   ]
  },
  {
   "cell_type": "code",
   "execution_count": 143,
   "id": "eb8111d3",
   "metadata": {},
   "outputs": [],
   "source": [
    "features.to_csv('D:/Project/demo/features', index = False)"
   ]
  }
 ],
 "metadata": {
  "colab": {
   "collapsed_sections": [
    "48661451",
    "928a2055",
    "2cf50286",
    "699b089c",
    "bbe83872",
    "389faf49",
    "49ecebaa",
    "aa63e2dd",
    "3c2c9c88"
   ],
   "name": "LaptopProject.ipynb",
   "provenance": []
  },
  "kernelspec": {
   "display_name": "Python 3 (ipykernel)",
   "language": "python",
   "name": "python3"
  },
  "language_info": {
   "codemirror_mode": {
    "name": "ipython",
    "version": 3
   },
   "file_extension": ".py",
   "mimetype": "text/x-python",
   "name": "python",
   "nbconvert_exporter": "python",
   "pygments_lexer": "ipython3",
   "version": "3.9.12"
  }
 },
 "nbformat": 4,
 "nbformat_minor": 5
}
